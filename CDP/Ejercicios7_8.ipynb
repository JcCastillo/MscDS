{
  "nbformat": 4,
  "nbformat_minor": 0,
  "metadata": {
    "colab": {
      "name": "Ejercicios7_8.ipynb",
      "provenance": [],
      "collapsed_sections": []
    },
    "kernelspec": {
      "name": "python3",
      "display_name": "Python 3"
    },
    "language_info": {
      "name": "python"
    }
  },
  "cells": [
    {
      "cell_type": "markdown",
      "source": [
        "##Diferencias entre np.array y np.matrix\n",
        "\n",
        "La principal diferencia entre los los arreglos y las matrices radica en que las matrices son especificamente de 2 dimensiones, mientras que los arreglos son N-dimensiones.\n",
        "\n",
        "\n",
        "Las matrices proveen una notación conveniente para la multiplicación de matrices dado por a*b, mientras que al utilizar la misma notación con arreglos se obtiene una multiplicación elemento por elemento.\n",
        "\n",
        "Ejemplo:"
      ],
      "metadata": {
        "id": "Hl7YWTCpqNkZ"
      }
    },
    {
      "cell_type": "code",
      "source": [
        "import numpy as np\n",
        "\n",
        "a = np.mat('4 3; 2 1')\n",
        "b = np.mat('1 2; 3 4')\n",
        "print(a*b)\n",
        "\n",
        "c = np.array([[4, 3], [2, 1]])\n",
        "d = np.array([[1, 2], [3, 4]])\n",
        "\n",
        "print(c*d)"
      ],
      "metadata": {
        "colab": {
          "base_uri": "https://localhost:8080/"
        },
        "id": "469CYm57rfXN",
        "outputId": "a2e7a6be-5eb9-4f89-aa5b-618904e5994e"
      },
      "execution_count": 1,
      "outputs": [
        {
          "output_type": "stream",
          "name": "stdout",
          "text": [
            "[[13 20]\n",
            " [ 5  8]]\n",
            "[[4 6]\n",
            " [6 4]]\n"
          ]
        }
      ]
    },
    {
      "cell_type": "markdown",
      "source": [
        "Adicionalmente al revisar la documentación de numpy para np.matrix se observa lo siguiente:\n",
        "\n",
        "***It is no longer recommended to use this class, even for linear algebra. Instead use regular arrays. The class may be removed in the future.***\n",
        "\n",
        "Que indica que en el futuro esta clase será removida y es recomendable utilizar arreglos."
      ],
      "metadata": {
        "id": "4qjpRdhVtLwN"
      }
    },
    {
      "cell_type": "markdown",
      "source": [
        "**Ejemplo en DS** : en inteligencia artificial y ML en la sub-rama \"reinforcement learning\" la \"ecuacion de bellman\" puede aplicarse de manera vectorizada a traves del operar vectores, matrices y escalares en una sola expresión.\n",
        "\n",
        "<img src=\"https://rebornhugo.github.io/assets/images/post_images/%E5%BC%BA%E5%8C%96%E5%AD%A6%E4%B9%A02/bellman%20equation2.PNG\">\n",
        "\n",
        "* n = número de estados del sistema.\n",
        "* V(s) = vector que representa el valor esperado para cierto estado\n",
        "* R = recompensa inmediata percibida por el agente al salir de cierto estado.(vector)\n",
        "* P = matriz de transicion de la cadena de Markov sub-yacente.(matriz)\n",
        "* γ = factor de descuento de recompensas futuras(escalar)\n",
        "\n",
        "Calcular V(s) para el siguiente sistema aplicando la ecuación de bellman de manera vectorizada."
      ],
      "metadata": {
        "id": "9RAWnrqCdDgw"
      }
    },
    {
      "cell_type": "code",
      "source": [
        "V = np.array([0,0,0]) # valor inicial de V(s)\n",
        "R = np.array([10,2,5]) # vector de recompensas\n",
        "P = np.array([[0.5,0.25,0.25],\n",
        "              [0.2,0.40,0.40],\n",
        "              [0.80,0.10,0.10]])  # matriz de transición\n",
        "gamma = 0.99\n",
        "vs = R + gamma*np.matmul(V,P)\n",
        "print(vs)\n"
      ],
      "metadata": {
        "id": "N5jXwEGndFK9"
      },
      "execution_count": null,
      "outputs": []
    },
    {
      "cell_type": "markdown",
      "source": [
        "### Ejercicio \n",
        "\n",
        "Implementar en una funcion neural_network(X) la red neuronal definida por la siguiente arquitectura:\n",
        "\n",
        "<img src=\"http://i.imgur.com/UNlffE1.png\">\n",
        "\n",
        "Podemos validar si fue correctamente implementada si usamos como entrada el vector x=[1,1] . Debemos obtener el resultado mostrado en la imagen.\n",
        "\n",
        "Una vez tenemos la implementacion correcta, cambiar la funcion de activacion de la capa de salida por la funcion de activacion ReLu(https://en.wikipedia.org/wiki/Rectifier_(neural_networks)):\n",
        "\n",
        "<img src=\"https://cdn-images-1.medium.com/max/1600/1*DfMRHwxY1gyyDmrIAd-gjQ.png\">\n",
        "\n",
        "Luego evaluar la red neuronal sobre la matriz de datos X(de manera vectorizada):"
      ],
      "metadata": {
        "id": "FYP3DBoPiA91"
      }
    },
    {
      "cell_type": "code",
      "source": [
        "def sigmoid(x): #convertir los valores de x al rango de 0 a 1\n",
        "    \n",
        "    return 1/(1+np.exp(-x))\n",
        "\n",
        "def relu(x):\n",
        "    condiciones = [x<0,x>0]\n",
        "    resultados =  [0,x]\n",
        "    return np.select(condiciones,resultados)\n",
        "\n",
        "def neural_network(x):\n",
        "  hl = [[0.712, 0.355, 0.268], [0.112, 0.855, 0.468]]\n",
        "  ol = [0.116, 0.329, 0.708]\n",
        "\n",
        "  hl_w = np.matmul(x,hl)\n",
        "  hl_w = sigmoid(hl_w)\n",
        "  hl_w = relu(hl_w)\n",
        "  print(hl_w)\n",
        "  ol_w = np.matmul(hl_w, ol)\n",
        "  ol_w = relu(ol_w)\n",
        "  return ol_w\n",
        "\n",
        "x = np.array([\n",
        "    [0.1,2],\n",
        "    [0.3,0.45],\n",
        "    [5,9],\n",
        "    [12,6],\n",
        "    [7,5],\n",
        "    [0.3,0.8],\n",
        "    [12,5],\n",
        "    [100,200],\n",
        "    [7,8],\n",
        "    [300,1500]])\n",
        "print(neural_network(x))\n"
      ],
      "metadata": {
        "colab": {
          "base_uri": "https://localhost:8080/"
        },
        "id": "mrgfqwj1iCwl",
        "outputId": "82df2377-a61b-46e7-9208-c650185f42c1"
      },
      "execution_count": 22,
      "outputs": [
        {
          "output_type": "stream",
          "name": "stdout",
          "text": [
            "[[0.5732687  0.85138432 0.72368206]\n",
            " [0.56561932 0.62040086 0.57224093]\n",
            " [0.98972791 0.99992287 0.9961353 ]\n",
            " [0.99990057 0.99991645 0.99758587]\n",
            " [0.99610438 0.99884211 0.98545706]\n",
            " [0.5752246  0.68793868 0.61177987]\n",
            " [0.99988879 0.99980357 0.99615067]\n",
            " [1.         1.         1.        ]\n",
            " [0.997213   0.99991084 0.99638845]\n",
            " [1.         1.         1.        ]]\n",
            "[0.85897151 0.6748703  1.14904686 1.15125178 1.14187076 0.72619803\n",
            " 1.15019715 1.153      1.1500904  1.153     ]\n"
          ]
        }
      ]
    }
  ]
}