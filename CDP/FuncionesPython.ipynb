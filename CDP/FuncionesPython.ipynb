{
  "nbformat": 4,
  "nbformat_minor": 0,
  "metadata": {
    "colab": {
      "name": "FuncionesPython.ipynb",
      "provenance": []
    },
    "kernelspec": {
      "name": "python3",
      "display_name": "Python 3"
    },
    "language_info": {
      "name": "python"
    }
  },
  "cells": [
    {
      "cell_type": "markdown",
      "source": [
        "#Funciones en Python\n",
        "Una función es un conjunto de instrucciones que conforman una unidad lógica del programa y resuelven un problema específico.\n",
        "\n",
        "Python contiene una serie de funciones predefinidas por ejemplo las funciones print() y len(), la primera permite tener una salida en pantalla, la función len obtiene el número de elementos de un objeto contenedor como una lista, una tupla, un diccionario o un conjunto.\n",
        "\n"
      ],
      "metadata": {
        "id": "relpov1JgtIU"
      }
    },
    {
      "cell_type": "code",
      "source": [
        "print('Funcion predefinida')"
      ],
      "metadata": {
        "colab": {
          "base_uri": "https://localhost:8080/"
        },
        "id": "Gk9Jf5kSh-9y",
        "outputId": "9ac5a5ff-d9f5-4bda-e072-f856a860f7a3"
      },
      "execution_count": 1,
      "outputs": [
        {
          "output_type": "stream",
          "name": "stdout",
          "text": [
            "Funcion predefinida\n"
          ]
        }
      ]
    },
    {
      "cell_type": "code",
      "source": [
        "arreglo = [1,2,3,4,5]\n",
        "print(len(arreglo))"
      ],
      "metadata": {
        "colab": {
          "base_uri": "https://localhost:8080/"
        },
        "id": "92e4xu_7iGSR",
        "outputId": "12d4cda7-fcc9-410e-d2f5-f223ae4efc03"
      },
      "execution_count": 2,
      "outputs": [
        {
          "output_type": "stream",
          "name": "stdout",
          "text": [
            "5\n"
          ]
        }
      ]
    },
    {
      "cell_type": "markdown",
      "source": [
        "##Funciones definidas por el usuario\n",
        "Python permite realizar funciones definidas por el usuario para resolver algun problema en específico.\n",
        "\n"
      ],
      "metadata": {
        "id": "sAKmAAqYjqbK"
      }
    },
    {
      "cell_type": "code",
      "source": [
        "def potencia(base, potencia):\n",
        "  return base**potencia\n",
        "\n",
        "print(potencia(2,5))\n",
        "\n"
      ],
      "metadata": {
        "colab": {
          "base_uri": "https://localhost:8080/"
        },
        "id": "JYi-ysfJj6hb",
        "outputId": "c584129c-ef0c-4178-a7e2-0c66b69677c8"
      },
      "execution_count": 3,
      "outputs": [
        {
          "output_type": "stream",
          "name": "stdout",
          "text": [
            "32\n"
          ]
        }
      ]
    },
    {
      "cell_type": "markdown",
      "source": [
        "## Parametros posicionales\n",
        "Son argumentos que se pueden llamar por su posición en la definición de la función.\n",
        "\n",
        "##Parametros nombrados\n",
        "Son argumentos que pueden ser llamados por medio de palabras clave."
      ],
      "metadata": {
        "id": "jUDzuSqOk5CI"
      }
    },
    {
      "cell_type": "code",
      "source": [
        "def functionPotencia(base, potencia):\n",
        "    return base ** potencia\n",
        "    \n",
        "p = -1\n",
        "p = functionPotencia(3, 5) ## llamada a función por medio de parametros posicionales\n",
        "print(p)\n",
        "p = functionPotencia(potencia=5, base=3)# llamada a función por medio de parametros nombrados\n",
        "print (p)\n",
        "p = functionPotencia(base=3, potencia=5)# llamada a función por medio de parametros nombrados\n",
        "print (p)"
      ],
      "metadata": {
        "colab": {
          "base_uri": "https://localhost:8080/"
        },
        "id": "YCDn9o7kleog",
        "outputId": "2274a590-c877-4cf3-d459-20fce0ae7d16"
      },
      "execution_count": 8,
      "outputs": [
        {
          "output_type": "stream",
          "name": "stdout",
          "text": [
            "243\n",
            "243\n",
            "243\n"
          ]
        }
      ]
    },
    {
      "cell_type": "markdown",
      "source": [
        "##Devolver n valores desde una función\n",
        "Python de forma nativa permite que una función devuelva un conjunto de valores, los cuales \"empaqueta\" en una tupla de tamaño n.\n",
        "\n",
        "Ejemplo:\n",
        "Se necesita realizar una función que al recibir un valor en segundos (entero) devuelva el resultado en horas, minutos y segundos."
      ],
      "metadata": {
        "id": "nyfxAIb9oH_Q"
      }
    },
    {
      "cell_type": "code",
      "source": [
        "def hms(segundos):\n",
        "  horas = segundos // 3600\n",
        "  minutos = (segundos % 3600) // 60\n",
        "  segundos = (segundos % 3600 ) % 60\n",
        "  return (horas, minutos, segundos)\n",
        "\n",
        "seg = 3661\n",
        "\n",
        "(h,m,s) = hms(seg)  # La variable que recibira el valor puede declararse como una n-tupla\n",
        "print('Horas: ' + str(h) + ' minutos: ' + str(m) +  ' segundos: ' + str(s))\n",
        "\n",
        "hvar = hms(seg) #O como una única variable que al recibir el valor tomara el tipo n-tupla\n",
        "print(hvar)\n",
        "print(str(type((h,m,s))) + \" \" + str(type(hvar)))"
      ],
      "metadata": {
        "colab": {
          "base_uri": "https://localhost:8080/"
        },
        "id": "fOXy0gt-ofWG",
        "outputId": "45a7a20d-7f8d-4093-cbb0-438783cd1529"
      },
      "execution_count": 31,
      "outputs": [
        {
          "output_type": "stream",
          "name": "stdout",
          "text": [
            "Horas: 1 minutos: 1 segundos: 1\n",
            "(1, 1, 1)\n",
            "<class 'tuple'> <class 'tuple'>\n"
          ]
        }
      ]
    },
    {
      "cell_type": "markdown",
      "source": [
        "##Funciones como objetos o como parámetros de otras funciones\n",
        "En python las funciones se comportan como cualquier otro objeto, como un entero o como una lista, esto significa que pueden utilizarse como argumento de otra función.\n",
        "\n",
        "Ejemplo:\n",
        "Se define una función que tome como argumentos una lista de valores y una función."
      ],
      "metadata": {
        "id": "_Y1sTp9h2TUj"
      }
    },
    {
      "cell_type": "code",
      "source": [
        "def aplicarFuncion(arreglo, funcion):\n",
        "  result = []\n",
        "  for i in range(len(arreglo)):\n",
        "    result.append(funcion(arreglo[i]))\n",
        " \n",
        "  return result\n",
        "\n",
        "arreglo = [1,-2,3,4,-5]\n",
        "resultado = aplicarFuncion(arreglo,abs) #Aplica valor absoluto a la lista de números en la variable arreglo\n",
        "print (resultado)"
      ],
      "metadata": {
        "colab": {
          "base_uri": "https://localhost:8080/"
        },
        "id": "UAW2Rwd96a_y",
        "outputId": "3eb05b77-a23d-4023-b9f8-2e94a795b4ec"
      },
      "execution_count": 33,
      "outputs": [
        {
          "output_type": "stream",
          "name": "stdout",
          "text": [
            "[1, 2, 3, 4, 5]\n"
          ]
        }
      ]
    },
    {
      "cell_type": "markdown",
      "source": [
        "##Funciones anónimas o lambda\n",
        "En python una función anónima es aquella que se define sin un nombre, mientras una función normalmente inicia con la palabra ***def***, una función anónima inicia con la palabra ***lambda***, por lo mismo también son conocidas como funciones lambda.\n",
        "\n"
      ],
      "metadata": {
        "id": "D2wTwpTY7wjv"
      }
    },
    {
      "cell_type": "code",
      "source": [
        "triple = lambda x: x*3\n",
        "print(triple(10))"
      ],
      "metadata": {
        "colab": {
          "base_uri": "https://localhost:8080/"
        },
        "id": "pe502o_98eYf",
        "outputId": "a904f0da-2ab9-477c-ad00-1e14636fa1e1"
      },
      "execution_count": 34,
      "outputs": [
        {
          "output_type": "stream",
          "name": "stdout",
          "text": [
            "30\n"
          ]
        }
      ]
    },
    {
      "cell_type": "markdown",
      "source": [
        "Las funciones lambda se utilizan cuando se requieren funciones anónimas por un corto período de tiempo.\n",
        "Adicionalmente suelen utilizarse como argumento de funciones de orden superior, ***función que toma como argumento otra función***.\n",
        "\n",
        "Funciones anónimas se utilizan en funciones predefinidas en python, por ejemplo ***filter()***"
      ],
      "metadata": {
        "id": "DWwczbJ_8rtY"
      }
    },
    {
      "cell_type": "code",
      "source": [
        "#Programa que lista los números impares de un arreglo\n",
        "lista = [1, 5, 4, 6, 8, 11, 3, 12]\n",
        "\n",
        "lista_impar = list(filter(lambda x: (x%2 == 1) , lista))\n",
        "\n",
        "print(lista_impar)"
      ],
      "metadata": {
        "colab": {
          "base_uri": "https://localhost:8080/"
        },
        "id": "tj_RfTa19uFc",
        "outputId": "39448b2b-cae3-4b09-c4c4-d223dbcbaf88"
      },
      "execution_count": 35,
      "outputs": [
        {
          "output_type": "stream",
          "name": "stdout",
          "text": [
            "[1, 5, 11, 3]\n"
          ]
        }
      ]
    }
  ]
}