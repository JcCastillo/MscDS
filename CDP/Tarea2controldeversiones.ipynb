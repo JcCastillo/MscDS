{
  "nbformat": 4,
  "nbformat_minor": 0,
  "metadata": {
    "colab": {
      "name": "Tarea2controldeversiones.ipynb",
      "provenance": [],
      "collapsed_sections": []
    },
    "kernelspec": {
      "name": "python3",
      "display_name": "Python 3"
    },
    "language_info": {
      "name": "python"
    }
  },
  "cells": [
    {
      "cell_type": "markdown",
      "source": [
        "#Control de versiones\n",
        "Los sistemas de control de versiones <b>(VCSs)</b> son herramientas utilizadas para rastrear cambios a código o a colecciones de archivos y carpetas, mantienen un historal de los cambios realizados. Esto se realiza mediante una serie de <i>fotografias</i> que guardan la totalidad del estado y metadata de los archivos o carpetas.\n",
        "\n",
        "Existen varios sistemas de control de versiones, sin embargo <i><b>GIT</b></i> se ha convertido en el estandar de facto.\n",
        "\n",
        "##GIT\n",
        "\n",
        "###Modelo de datos GIT\n",
        "\n",
        "####Snapshots\n",
        "GIT modela la historia de los archivos o carpetas mediante una serie de <i>fotografias</i>.\n",
        "\n",
        "En términos de GIT un archivo es definido por un <i>blob</i> que no es más que un conjunto de bytes. Un directorio es llamado <i>tree</i> el cual puede mapear archivos (blobs) o otros tree, lo cual permite que los directorios contengan otros directorios.\n",
        "\n",
        "Una fotografía es el tree de más alto nivel que esta siendo rastreado.\n",
        "\n",
        "En GIT una historia es un grafo acíclico dirigido de fotografías.\n",
        "\n",
        "Esto significa que cada fotografia es un nodo en un grafo que no tiene ciclos y que cada nodo pertenece a un conjunto de padres.\n",
        "\n",
        "<img src=\"https://i.stack.imgur.com/WXutg.gif\">\n",
        "\n"
      ],
      "metadata": {
        "id": "9EeyOTVcBnUM"
      }
    },
    {
      "cell_type": "markdown",
      "source": [
        "###Objetos y direccionamiento de contenido\n",
        "Un *objeto* puede ser:\n",
        "<ul>\n",
        "<li>blob</li>\n",
        "<li>tree</li>\n",
        "<li>commit (snapshot)</li>\n",
        "</ul>\n",
        "\n",
        "En GIT todos los objetos estan direccionados por su ***SHA-1 hash***\n",
        "\n",
        "Debido a que es poco práctico recordar una cadena de 40 caracteres hexadecimales en GIT se manejan las ***referencias*** que son nombres entendibles para el humano.\n"
      ],
      "metadata": {
        "id": "sQ1nE3JBBqFT"
      }
    },
    {
      "cell_type": "markdown",
      "source": [
        "#Ejemplos de comandos\n",
        "\n",
        "Para ejemplificar algunos comandos de git se utilizo ***magic cells*** y comandos shell\n"
      ],
      "metadata": {
        "id": "lxki6tZLeu6M"
      }
    },
    {
      "cell_type": "code",
      "source": [
        "%%shell\n",
        "git help init\n"
      ],
      "metadata": {
        "colab": {
          "base_uri": "https://localhost:8080/"
        },
        "id": "rrtxtafXe972",
        "outputId": "36ed1a8f-a295-425b-ec14-ced47388c21d"
      },
      "execution_count": 17,
      "outputs": [
        {
          "output_type": "stream",
          "name": "stdout",
          "text": [
            "GIT-INIT(1)                       Git Manual                       GIT-INIT(1)\n",
            "\n",
            "N\bNA\bAM\bME\bE\n",
            "       git-init - Create an empty Git repository or reinitialize an existing\n",
            "       one\n",
            "\n",
            "S\bSY\bYN\bNO\bOP\bPS\bSI\bIS\bS\n",
            "       _\bg_\bi_\bt _\bi_\bn_\bi_\bt [-q | --quiet] [--bare] [--template=<template_directory>]\n",
            "                 [--separate-git-dir <git dir>]\n",
            "                 [--shared[=<permissions>]] [directory]\n",
            "\n",
            "D\bDE\bES\bSC\bCR\bRI\bIP\bPT\bTI\bIO\bON\bN\n",
            "       This command creates an empty Git repository - basically a .\b.g\bgi\bit\bt\n",
            "       directory with subdirectories for o\bob\bbj\bje\bec\bct\bts\bs, r\bre\bef\bfs\bs/\b/h\bhe\bea\bad\bds\bs, r\bre\bef\bfs\bs/\b/t\bta\bag\bgs\bs, and\n",
            "       template files. An initial H\bHE\bEA\bAD\bD file that references the HEAD of the\n",
            "       master branch is also created.\n",
            "\n",
            "       If the $\b$G\bGI\bIT\bT_\b_D\bDI\bIR\bR environment variable is set then it specifies a path to\n",
            "       use instead of .\b./\b/.\b.g\bgi\bit\bt for the base of the repository.\n",
            "\n",
            "       If the object storage directory is specified via the\n",
            "       $\b$G\bGI\bIT\bT_\b_O\bOB\bBJ\bJE\bEC\bCT\bT_\b_D\bDI\bIR\bRE\bEC\bCT\bTO\bOR\bRY\bY environment variable then the sha1 directories\n",
            "       are created underneath - otherwise the default $\b$G\bGI\bIT\bT_\b_D\bDI\bIR\bR/\b/o\bob\bbj\bje\bec\bct\bts\bs\n",
            "       directory is used.\n",
            "\n",
            "       Running _\bg_\bi_\bt _\bi_\bn_\bi_\bt in an existing repository is safe. It will not\n",
            "       overwrite things that are already there. The primary reason for\n",
            "       rerunning _\bg_\bi_\bt _\bi_\bn_\bi_\bt is to pick up newly added templates (or to move the\n",
            "       repository to another place if --separate-git-dir is given).\n",
            "\n",
            "O\bOP\bPT\bTI\bIO\bON\bNS\bS\n",
            "       -q, --quiet\n",
            "           Only print error and warning messages; all other output will be\n",
            "           suppressed.\n",
            "\n",
            "       --bare\n",
            "           Create a bare repository. If G\bGI\bIT\bT_\b_D\bDI\bIR\bR environment is not set, it is\n",
            "           set to the current working directory.\n",
            "\n",
            "       --template=<template_directory>\n",
            "           Specify the directory from which templates will be used. (See the\n",
            "           \"TEMPLATE DIRECTORY\" section below.)\n",
            "\n",
            "       --separate-git-dir=<git dir>\n",
            "           Instead of initializing the repository as a directory to either\n",
            "           $\b$G\bGI\bIT\bT_\b_D\bDI\bIR\bR or .\b./\b/.\b.g\bgi\bit\bt/\b/, create a text file there containing the path\n",
            "           to the actual repository. This file acts as filesystem-agnostic Git\n",
            "           symbolic link to the repository.\n",
            "\n",
            "           If this is reinitialization, the repository will be moved to the\n",
            "           specified path.\n",
            "\n",
            "       --shared[=(false|true|umask|group|all|world|everybody|0xxx)]\n",
            "           Specify that the Git repository is to be shared amongst several\n",
            "           users. This allows users belonging to the same group to push into\n",
            "           that repository. When specified, the config variable\n",
            "           \"core.sharedRepository\" is set so that files and directories under\n",
            "           $\b$G\bGI\bIT\bT_\b_D\bDI\bIR\bR are created with the requested permissions. When not\n",
            "           specified, Git will use permissions reported by umask(2).\n",
            "\n",
            "           The option can have the following values, defaulting to _\bg_\br_\bo_\bu_\bp if no\n",
            "           value is given:\n",
            "\n",
            "           _\bu_\bm_\ba_\bs_\bk (or _\bf_\ba_\bl_\bs_\be)\n",
            "               Use permissions reported by umask(2). The default, when\n",
            "               -\b--\b-s\bsh\bha\bar\bre\bed\bd is not specified.\n",
            "\n",
            "           _\bg_\br_\bo_\bu_\bp (or _\bt_\br_\bu_\be)\n",
            "               Make the repository group-writable, (and g+sx, since the git\n",
            "               group may be not the primary group of all users). This is used\n",
            "               to loosen the permissions of an otherwise safe umask(2) value.\n",
            "               Note that the umask still applies to the other permission bits\n",
            "               (e.g. if umask is _\b0_\b0_\b2_\b2, using _\bg_\br_\bo_\bu_\bp will not remove read\n",
            "               privileges from other (non-group) users). See _\b0_\bx_\bx_\bx for how to\n",
            "               exactly specify the repository permissions.\n",
            "\n",
            "           _\ba_\bl_\bl (or _\bw_\bo_\br_\bl_\bd or _\be_\bv_\be_\br_\by_\bb_\bo_\bd_\by)\n",
            "               Same as _\bg_\br_\bo_\bu_\bp, but make the repository readable by all users.\n",
            "\n",
            "           _\b0_\bx_\bx_\bx\n",
            "               _\b0_\bx_\bx_\bx is an octal number and each file will have mode _\b0_\bx_\bx_\bx.\n",
            "               _\b0_\bx_\bx_\bx will override users' umask(2) value (and not only loosen\n",
            "               permissions as _\bg_\br_\bo_\bu_\bp and _\ba_\bl_\bl does).  _\b0_\b6_\b4_\b0 will create a\n",
            "               repository which is group-readable, but not group-writable or\n",
            "               accessible to others.  _\b0_\b6_\b6_\b0 will create a repo that is readable\n",
            "               and writable to the current user and group, but inaccessible to\n",
            "               others.\n",
            "\n",
            "       By default, the configuration flag r\bre\bec\bce\bei\biv\bve\be.\b.d\bde\ben\bny\byN\bNo\bon\bnF\bFa\bas\bst\btF\bFo\bor\brw\bwa\bar\brd\bds\bs is\n",
            "       enabled in shared repositories, so that you cannot force a non\n",
            "       fast-forwarding push into it.\n",
            "\n",
            "       If you provide a _\bd_\bi_\br_\be_\bc_\bt_\bo_\br_\by, the command is run inside it. If this\n",
            "       directory does not exist, it will be created.\n",
            "\n",
            "T\bTE\bEM\bMP\bPL\bLA\bAT\bTE\bE D\bDI\bIR\bRE\bEC\bCT\bTO\bOR\bRY\bY\n",
            "       Files and directories in the template directory whose name do not start\n",
            "       with a dot will be copied to the $\b$G\bGI\bIT\bT_\b_D\bDI\bIR\bR after it is created.\n",
            "\n",
            "       The template directory will be one of the following (in order):\n",
            "\n",
            "       ·   the argument given with the -\b--\b-t\bte\bem\bmp\bpl\bla\bat\bte\be option;\n",
            "\n",
            "       ·   the contents of the $\b$G\bGI\bIT\bT_\b_T\bTE\bEM\bMP\bPL\bLA\bAT\bTE\bE_\b_D\bDI\bIR\bR environment variable;\n",
            "\n",
            "       ·   the i\bin\bni\bit\bt.\b.t\bte\bem\bmp\bpl\bla\bat\bte\beD\bDi\bir\br configuration variable; or\n",
            "\n",
            "       ·   the default template directory: /\b/u\bus\bsr\br/\b/s\bsh\bha\bar\bre\be/\b/g\bgi\bit\bt-\b-c\bco\bor\bre\be/\b/t\bte\bem\bmp\bpl\bla\bat\bte\bes\bs.\n",
            "\n",
            "       The default template directory includes some directory structure,\n",
            "       suggested \"exclude patterns\" (see g\bgi\bit\bti\big\bgn\bno\bor\bre\be(5)), and sample hook files.\n",
            "\n",
            "       The sample hooks are all disabled by default, To enable one of the\n",
            "       sample hooks rename it by removing its .\b.s\bsa\bam\bmp\bpl\ble\be suffix.\n",
            "\n",
            "       See g\bgi\bit\bth\bho\boo\bok\bks\bs(5) for more general info on hook execution.\n",
            "\n",
            "E\bEX\bXA\bAM\bMP\bPL\bLE\bES\bS\n",
            "       Start a new Git repository for an existing code base\n",
            "\n",
            "               $ cd /path/to/my/codebase\n",
            "               $ git init      (\b(1\b1)\b)\n",
            "               $ git add .     (\b(2\b2)\b)\n",
            "               $ git commit    (\b(3\b3)\b)\n",
            "\n",
            "           1\b1.\b. Create a /path/to/my/codebase/.git directory.\n",
            "           2\b2.\b. Add all existing files to the index.\n",
            "           3\b3.\b. Record the pristine state as the first commit in the history.\n",
            "\n",
            "G\bGI\bIT\bT\n",
            "       Part of the g\bgi\bit\bt(1) suite\n",
            "\n",
            "Git 2.17.1                        09/09/2021                       GIT-INIT(1)\n"
          ]
        },
        {
          "output_type": "execute_result",
          "data": {
            "text/plain": [
              ""
            ]
          },
          "metadata": {},
          "execution_count": 17
        }
      ]
    },
    {
      "cell_type": "markdown",
      "source": [
        "Inicializar git"
      ],
      "metadata": {
        "id": "ncLTSmIFfTUd"
      }
    },
    {
      "cell_type": "code",
      "source": [
        "%%shell\n",
        "git init"
      ],
      "metadata": {
        "colab": {
          "base_uri": "https://localhost:8080/"
        },
        "id": "ps_5mMR1fGAF",
        "outputId": "b436088f-56f8-4161-cb9c-9212b7b43423"
      },
      "execution_count": 18,
      "outputs": [
        {
          "output_type": "stream",
          "name": "stdout",
          "text": [
            "Reinitialized existing Git repository in /content/.git/\n"
          ]
        },
        {
          "output_type": "execute_result",
          "data": {
            "text/plain": [
              ""
            ]
          },
          "metadata": {},
          "execution_count": 18
        }
      ]
    },
    {
      "cell_type": "markdown",
      "source": [
        "Obtener estatus"
      ],
      "metadata": {
        "id": "CgynRfs3fXfs"
      }
    },
    {
      "cell_type": "code",
      "source": [
        "%%shell\n",
        "git status"
      ],
      "metadata": {
        "colab": {
          "base_uri": "https://localhost:8080/"
        },
        "id": "UmxjgR8ofOO1",
        "outputId": "701e0ea7-102e-44d3-cb06-b6accbdbfc73"
      },
      "execution_count": 19,
      "outputs": [
        {
          "output_type": "stream",
          "name": "stdout",
          "text": [
            "On branch master\n",
            "\n",
            "No commits yet\n",
            "\n",
            "Untracked files:\n",
            "  (use \"git add <file>...\" to include in what will be committed)\n",
            "\n",
            "\t\u001b[31m.config/\u001b[m\n",
            "\t\u001b[31msample_data/\u001b[m\n",
            "\n",
            "nothing added to commit but untracked files present (use \"git add\" to track)\n"
          ]
        },
        {
          "output_type": "execute_result",
          "data": {
            "text/plain": [
              ""
            ]
          },
          "metadata": {},
          "execution_count": 19
        }
      ]
    },
    {
      "cell_type": "markdown",
      "source": [
        "Agregar archivo de texto"
      ],
      "metadata": {
        "id": "Xvuer0Tofdbh"
      }
    },
    {
      "cell_type": "code",
      "source": [
        "%%shell\n",
        "echo Hi from colab file > ejemplo.txt\n"
      ],
      "metadata": {
        "colab": {
          "base_uri": "https://localhost:8080/"
        },
        "id": "4hZemH2HfyCM",
        "outputId": "731a0b57-e922-4fea-d206-5f681383f496"
      },
      "execution_count": 27,
      "outputs": [
        {
          "output_type": "execute_result",
          "data": {
            "text/plain": [
              ""
            ]
          },
          "metadata": {},
          "execution_count": 27
        }
      ]
    },
    {
      "cell_type": "markdown",
      "source": [
        "Agregar archivo área staging"
      ],
      "metadata": {
        "id": "p3rCjweMicfR"
      }
    },
    {
      "cell_type": "code",
      "source": [
        "%%shell\n",
        "git add --all"
      ],
      "metadata": {
        "colab": {
          "base_uri": "https://localhost:8080/"
        },
        "id": "gUntMGDcgfBr",
        "outputId": "649b9e78-fd16-4981-deb3-4b04dba3ee00"
      },
      "execution_count": 28,
      "outputs": [
        {
          "output_type": "execute_result",
          "data": {
            "text/plain": [
              ""
            ]
          },
          "metadata": {},
          "execution_count": 28
        }
      ]
    },
    {
      "cell_type": "markdown",
      "source": [
        "Obtener status"
      ],
      "metadata": {
        "id": "wi3mfaNYigu2"
      }
    },
    {
      "cell_type": "code",
      "source": [
        "%%shell\n",
        "git status"
      ],
      "metadata": {
        "colab": {
          "base_uri": "https://localhost:8080/"
        },
        "id": "1tRKayajhD0Q",
        "outputId": "8de28e41-5a60-4e41-9eaa-c3a7c4b451d0"
      },
      "execution_count": 29,
      "outputs": [
        {
          "output_type": "stream",
          "name": "stdout",
          "text": [
            "On branch master\n",
            "\n",
            "No commits yet\n",
            "\n",
            "Changes to be committed:\n",
            "  (use \"git rm --cached <file>...\" to unstage)\n",
            "\n",
            "\t\u001b[32mnew file:   .config/.last_opt_in_prompt.yaml\u001b[m\n",
            "\t\u001b[32mnew file:   .config/.last_survey_prompt.yaml\u001b[m\n",
            "\t\u001b[32mnew file:   .config/.last_update_check.json\u001b[m\n",
            "\t\u001b[32mnew file:   .config/active_config\u001b[m\n",
            "\t\u001b[32mnew file:   .config/config_sentinel\u001b[m\n",
            "\t\u001b[32mnew file:   .config/configurations/config_default\u001b[m\n",
            "\t\u001b[32mnew file:   .config/gce\u001b[m\n",
            "\t\u001b[32mnew file:   .config/logs/2022.02.01/14.30.57.022317.log\u001b[m\n",
            "\t\u001b[32mnew file:   .config/logs/2022.02.01/14.31.16.993813.log\u001b[m\n",
            "\t\u001b[32mnew file:   .config/logs/2022.02.01/14.31.33.364834.log\u001b[m\n",
            "\t\u001b[32mnew file:   .config/logs/2022.02.01/14.31.40.709264.log\u001b[m\n",
            "\t\u001b[32mnew file:   .config/logs/2022.02.01/14.31.57.576848.log\u001b[m\n",
            "\t\u001b[32mnew file:   .config/logs/2022.02.01/14.31.58.218326.log\u001b[m\n",
            "\t\u001b[32mnew file:   ejemplo.txt\u001b[m\n",
            "\t\u001b[32mnew file:   sample_data/README.md\u001b[m\n",
            "\t\u001b[32mnew file:   sample_data/anscombe.json\u001b[m\n",
            "\t\u001b[32mnew file:   sample_data/california_housing_test.csv\u001b[m\n",
            "\t\u001b[32mnew file:   sample_data/california_housing_train.csv\u001b[m\n",
            "\t\u001b[32mnew file:   sample_data/mnist_test.csv\u001b[m\n",
            "\t\u001b[32mnew file:   sample_data/mnist_train_small.csv\u001b[m\n",
            "\n"
          ]
        },
        {
          "output_type": "execute_result",
          "data": {
            "text/plain": [
              ""
            ]
          },
          "metadata": {},
          "execution_count": 29
        }
      ]
    },
    {
      "cell_type": "markdown",
      "source": [
        "Remover un archivo de área de staging"
      ],
      "metadata": {
        "id": "BB17briyijBj"
      }
    },
    {
      "cell_type": "code",
      "source": [
        "%%shell\n",
        "git rm -f ejemplo.txt"
      ],
      "metadata": {
        "colab": {
          "base_uri": "https://localhost:8080/"
        },
        "id": "VKLNzizxg2pX",
        "outputId": "f53c8d6d-4047-4e29-ca7f-1c215368ee08"
      },
      "execution_count": 30,
      "outputs": [
        {
          "output_type": "stream",
          "name": "stdout",
          "text": [
            "rm 'ejemplo.txt'\n"
          ]
        },
        {
          "output_type": "execute_result",
          "data": {
            "text/plain": [
              ""
            ]
          },
          "metadata": {},
          "execution_count": 30
        }
      ]
    },
    {
      "cell_type": "markdown",
      "source": [
        "Obtener status"
      ],
      "metadata": {
        "id": "AHoTGLSuim0u"
      }
    },
    {
      "cell_type": "code",
      "source": [
        "%%shell\n",
        "git status"
      ],
      "metadata": {
        "colab": {
          "base_uri": "https://localhost:8080/"
        },
        "id": "B6E44XTahRSQ",
        "outputId": "2a9466a4-5d6d-4f63-8217-658958dc8b41"
      },
      "execution_count": 31,
      "outputs": [
        {
          "output_type": "stream",
          "name": "stdout",
          "text": [
            "On branch master\n",
            "\n",
            "No commits yet\n",
            "\n",
            "Changes to be committed:\n",
            "  (use \"git rm --cached <file>...\" to unstage)\n",
            "\n",
            "\t\u001b[32mnew file:   .config/.last_opt_in_prompt.yaml\u001b[m\n",
            "\t\u001b[32mnew file:   .config/.last_survey_prompt.yaml\u001b[m\n",
            "\t\u001b[32mnew file:   .config/.last_update_check.json\u001b[m\n",
            "\t\u001b[32mnew file:   .config/active_config\u001b[m\n",
            "\t\u001b[32mnew file:   .config/config_sentinel\u001b[m\n",
            "\t\u001b[32mnew file:   .config/configurations/config_default\u001b[m\n",
            "\t\u001b[32mnew file:   .config/gce\u001b[m\n",
            "\t\u001b[32mnew file:   .config/logs/2022.02.01/14.30.57.022317.log\u001b[m\n",
            "\t\u001b[32mnew file:   .config/logs/2022.02.01/14.31.16.993813.log\u001b[m\n",
            "\t\u001b[32mnew file:   .config/logs/2022.02.01/14.31.33.364834.log\u001b[m\n",
            "\t\u001b[32mnew file:   .config/logs/2022.02.01/14.31.40.709264.log\u001b[m\n",
            "\t\u001b[32mnew file:   .config/logs/2022.02.01/14.31.57.576848.log\u001b[m\n",
            "\t\u001b[32mnew file:   .config/logs/2022.02.01/14.31.58.218326.log\u001b[m\n",
            "\t\u001b[32mnew file:   sample_data/README.md\u001b[m\n",
            "\t\u001b[32mnew file:   sample_data/anscombe.json\u001b[m\n",
            "\t\u001b[32mnew file:   sample_data/california_housing_test.csv\u001b[m\n",
            "\t\u001b[32mnew file:   sample_data/california_housing_train.csv\u001b[m\n",
            "\t\u001b[32mnew file:   sample_data/mnist_test.csv\u001b[m\n",
            "\t\u001b[32mnew file:   sample_data/mnist_train_small.csv\u001b[m\n",
            "\n"
          ]
        },
        {
          "output_type": "execute_result",
          "data": {
            "text/plain": [
              ""
            ]
          },
          "metadata": {},
          "execution_count": 31
        }
      ]
    },
    {
      "cell_type": "markdown",
      "source": [
        "Quitar de área de staging todos los cambios"
      ],
      "metadata": {
        "id": "d9aZzIrDio1Y"
      }
    },
    {
      "cell_type": "code",
      "source": [
        "%%shell\n",
        "git reset"
      ],
      "metadata": {
        "colab": {
          "base_uri": "https://localhost:8080/"
        },
        "id": "LeB-yMqnhm_8",
        "outputId": "045cfadd-1e52-4d60-d638-406da7d7fe25"
      },
      "execution_count": 37,
      "outputs": [
        {
          "output_type": "execute_result",
          "data": {
            "text/plain": [
              ""
            ]
          },
          "metadata": {},
          "execution_count": 37
        }
      ]
    },
    {
      "cell_type": "markdown",
      "source": [
        "Obtener status"
      ],
      "metadata": {
        "id": "GK39KHYLiuBU"
      }
    },
    {
      "cell_type": "code",
      "source": [
        "%%shell\n",
        "git status"
      ],
      "metadata": {
        "colab": {
          "base_uri": "https://localhost:8080/"
        },
        "id": "umsFKqxqiTob",
        "outputId": "29e99943-17fb-460a-b788-3cfca9debc50"
      },
      "execution_count": 38,
      "outputs": [
        {
          "output_type": "stream",
          "name": "stdout",
          "text": [
            "On branch master\n",
            "\n",
            "No commits yet\n",
            "\n",
            "Untracked files:\n",
            "  (use \"git add <file>...\" to include in what will be committed)\n",
            "\n",
            "\t\u001b[31m.config/\u001b[m\n",
            "\t\u001b[31msample_data/\u001b[m\n",
            "\n",
            "nothing added to commit but untracked files present (use \"git add\" to track)\n"
          ]
        },
        {
          "output_type": "execute_result",
          "data": {
            "text/plain": [
              ""
            ]
          },
          "metadata": {},
          "execution_count": 38
        }
      ]
    }
  ]
}