{
  "nbformat": 4,
  "nbformat_minor": 0,
  "metadata": {
    "colab": {
      "provenance": [],
      "collapsed_sections": []
    },
    "kernelspec": {
      "name": "python3",
      "display_name": "Python 3"
    }
  },
  "cells": [
    {
      "cell_type": "markdown",
      "metadata": {
        "id": "-xJPhEzbqWp9"
      },
      "source": [
        "Igorando el sesgo/bias y asumiendo activación sigmoidal implementar la siguiente red neuronal en NumPy\n",
        "\n",
        "https://gadictos.com/neural-network-pt1/\n",
        "<img src=\"https://gadictos.com/wp-content/uploads/2019/05/bp1.png\">"
      ]
    },
    {
      "cell_type": "code",
      "metadata": {
        "id": "Q1yAwOc4qPLs"
      },
      "source": [
        "import numpy as np\n",
        "from google.colab import drive\n",
        "import pandas as pd\n",
        "import matplotlib.pyplot as plt\n",
        "import seaborn as sns"
      ],
      "execution_count": 37,
      "outputs": []
    },
    {
      "cell_type": "code",
      "source": [
        "#Montaje de archivos de google drive\n",
        "drive.mount('/content/gdrive')"
      ],
      "metadata": {
        "colab": {
          "base_uri": "https://localhost:8080/"
        },
        "id": "zw2yML65QEU9",
        "outputId": "0ae323f8-db62-41ad-ff76-06b89f7cc4d5"
      },
      "execution_count": null,
      "outputs": [
        {
          "output_type": "stream",
          "name": "stdout",
          "text": [
            "Mounted at /content/gdrive\n"
          ]
        }
      ]
    },
    {
      "cell_type": "code",
      "metadata": {
        "id": "hir96PwIqZOB",
        "colab": {
          "base_uri": "https://localhost:8080/"
        },
        "outputId": "83a25d40-719f-4f32-a0ef-acaba1bff0cb"
      },
      "source": [
        "def sigmoid(X):\n",
        "  return 1/(1+np.exp(-X))\n",
        "\n",
        "sigmoid(np.array([2,3,4]))"
      ],
      "execution_count": null,
      "outputs": [
        {
          "output_type": "execute_result",
          "data": {
            "text/plain": [
              "array([0.88079708, 0.95257413, 0.98201379])"
            ]
          },
          "metadata": {},
          "execution_count": 2
        }
      ]
    },
    {
      "cell_type": "code",
      "metadata": {
        "id": "O7GP_nCsq1PK"
      },
      "source": [
        "Wc1 = np.array([\n",
        "   [0.9,0.3,0.2],\n",
        "   [0.8,0.5,0.4],\n",
        "   [0.1,0.6,0.7]\n",
        "])"
      ],
      "execution_count": null,
      "outputs": []
    },
    {
      "cell_type": "code",
      "metadata": {
        "id": "dvgUY50uruJm"
      },
      "source": [
        "Wc2 = np.array([0.3,0.5,0.9])"
      ],
      "execution_count": null,
      "outputs": []
    },
    {
      "cell_type": "code",
      "metadata": {
        "id": "h2gQk06wr-2U"
      },
      "source": [
        "# 4 observaciones, 3 variables\n",
        "X = np.array([\n",
        "      [1,0,1],\n",
        "      [1,2,3],\n",
        "      [4,5,6],\n",
        "      [6,7,8],\n",
        "])"
      ],
      "execution_count": null,
      "outputs": []
    },
    {
      "cell_type": "markdown",
      "metadata": {
        "id": "83lprDqdsXS9"
      },
      "source": [
        "### Forward-propagation(inferencia, prediccion, o estimacion)\n"
      ]
    },
    {
      "cell_type": "code",
      "metadata": {
        "id": "6YQQehtksWIh"
      },
      "source": [
        "H = np.matmul(X,Wc1)"
      ],
      "execution_count": null,
      "outputs": []
    },
    {
      "cell_type": "code",
      "metadata": {
        "id": "Yk6tcrDVspc5",
        "colab": {
          "base_uri": "https://localhost:8080/"
        },
        "outputId": "cafcf9fd-eeaf-4480-96c8-3a2a2c38f5ba"
      },
      "source": [
        "X.shape"
      ],
      "execution_count": null,
      "outputs": [
        {
          "output_type": "execute_result",
          "data": {
            "text/plain": [
              "(4, 3)"
            ]
          },
          "metadata": {},
          "execution_count": 7
        }
      ]
    },
    {
      "cell_type": "code",
      "metadata": {
        "id": "N-N_C7E2ssQQ",
        "colab": {
          "base_uri": "https://localhost:8080/"
        },
        "outputId": "ceefcb71-f520-48ad-8440-ac0133540ded"
      },
      "source": [
        "Wc1.shape"
      ],
      "execution_count": null,
      "outputs": [
        {
          "output_type": "execute_result",
          "data": {
            "text/plain": [
              "(3, 3)"
            ]
          },
          "metadata": {},
          "execution_count": 8
        }
      ]
    },
    {
      "cell_type": "code",
      "metadata": {
        "id": "JNLhgYB6styV",
        "colab": {
          "base_uri": "https://localhost:8080/"
        },
        "outputId": "6cb0dc42-232a-4731-d189-49794eafce45"
      },
      "source": [
        "H.shape"
      ],
      "execution_count": null,
      "outputs": [
        {
          "output_type": "execute_result",
          "data": {
            "text/plain": [
              "(4, 3)"
            ]
          },
          "metadata": {},
          "execution_count": 9
        }
      ]
    },
    {
      "cell_type": "code",
      "metadata": {
        "colab": {
          "base_uri": "https://localhost:8080/"
        },
        "id": "hl3ppyjaIVgE",
        "outputId": "e503524a-2a37-497a-cd72-c8df9784d351"
      },
      "source": [
        "H"
      ],
      "execution_count": null,
      "outputs": [
        {
          "output_type": "execute_result",
          "data": {
            "text/plain": [
              "array([[ 1. ,  0.9,  0.9],\n",
              "       [ 2.8,  3.1,  3.1],\n",
              "       [ 8.2,  7.3,  7. ],\n",
              "       [11.8, 10.1,  9.6]])"
            ]
          },
          "metadata": {},
          "execution_count": 10
        }
      ]
    },
    {
      "cell_type": "code",
      "metadata": {
        "id": "K1BwUuoxs1K9"
      },
      "source": [
        "A = sigmoid(H)"
      ],
      "execution_count": null,
      "outputs": []
    },
    {
      "cell_type": "code",
      "metadata": {
        "id": "-JrD3ICAtLfY",
        "colab": {
          "base_uri": "https://localhost:8080/"
        },
        "outputId": "2c55f547-478a-4142-dc36-48ab71fceee8"
      },
      "source": [
        "A"
      ],
      "execution_count": null,
      "outputs": [
        {
          "output_type": "execute_result",
          "data": {
            "text/plain": [
              "array([[0.73105858, 0.7109495 , 0.7109495 ],\n",
              "       [0.94267582, 0.95689275, 0.95689275],\n",
              "       [0.99972542, 0.99932492, 0.99908895],\n",
              "       [0.9999925 , 0.99995892, 0.99993228]])"
            ]
          },
          "metadata": {},
          "execution_count": 12
        }
      ]
    },
    {
      "cell_type": "code",
      "metadata": {
        "id": "Rhk8mrKutMYa"
      },
      "source": [
        "y_aprox = sigmoid(np.matmul(\n",
        "    A,Wc2\n",
        "))"
      ],
      "execution_count": null,
      "outputs": []
    },
    {
      "cell_type": "code",
      "metadata": {
        "id": "RlJksB9Bt2kU",
        "colab": {
          "base_uri": "https://localhost:8080/"
        },
        "outputId": "e83d04e1-0b25-4e74-9018-9dd6b07c1b4d"
      },
      "source": [
        "y_aprox"
      ],
      "execution_count": null,
      "outputs": [
        {
          "output_type": "execute_result",
          "data": {
            "text/plain": [
              "array([0.77112013, 0.83513309, 0.84537273, 0.8455238 ])"
            ]
          },
          "metadata": {},
          "execution_count": 14
        }
      ]
    },
    {
      "cell_type": "code",
      "metadata": {
        "id": "xi3gkqIyugog"
      },
      "source": [
        "def g(X):\n",
        "  return sigmoid(np.matmul(X,Wc1))"
      ],
      "execution_count": null,
      "outputs": []
    },
    {
      "cell_type": "code",
      "metadata": {
        "id": "bXoXpxdUuM44"
      },
      "source": [
        "def f(g):\n",
        "  return sigmoid(np.matmul(g,Wc2))"
      ],
      "execution_count": null,
      "outputs": []
    },
    {
      "cell_type": "code",
      "metadata": {
        "id": "D3XYAyaWt4Dq"
      },
      "source": [
        "y_aprox = f(g(X))"
      ],
      "execution_count": null,
      "outputs": []
    },
    {
      "cell_type": "code",
      "metadata": {
        "id": "VLV6mCnXu0Uq",
        "colab": {
          "base_uri": "https://localhost:8080/"
        },
        "outputId": "2e378d1b-7ec7-496a-dd1c-5e17a12ddcc7"
      },
      "source": [
        "y_aprox"
      ],
      "execution_count": null,
      "outputs": [
        {
          "output_type": "execute_result",
          "data": {
            "text/plain": [
              "array([0.77112013, 0.83513309, 0.84537273, 0.8455238 ])"
            ]
          },
          "metadata": {},
          "execution_count": 18
        }
      ]
    },
    {
      "cell_type": "markdown",
      "metadata": {
        "id": "ET5Q69rqTRqN"
      },
      "source": [
        "#### Orientado a objetos"
      ]
    },
    {
      "cell_type": "code",
      "metadata": {
        "id": "YQoIIfoDu19e"
      },
      "source": [
        "class RedNeuronal:\n",
        "  def __init__(self):\n",
        "    self.Wc1 = np.array([\n",
        "            \n",
        "    ])\n",
        "\n",
        "    self. Wc2  = np.array([])\n",
        "\n",
        "  def forward_propagation(self,X):\n",
        "    A = sigmoid(np.matmul(X,self.Wc1))\n",
        "    y_aprox = sigmoid(np.matmul(A,self.Wc2))\n",
        "\n",
        "    return y_aprox"
      ],
      "execution_count": null,
      "outputs": []
    },
    {
      "cell_type": "code",
      "metadata": {
        "id": "S9QeAwizUOQ1",
        "colab": {
          "base_uri": "https://localhost:8080/",
          "height": 313
        },
        "outputId": "e0d4acc5-d5e8-4aeb-df7e-505796547216"
      },
      "source": [
        "red = RedNeuronal()\n",
        "red.forward_propagation(X)"
      ],
      "execution_count": null,
      "outputs": [
        {
          "output_type": "error",
          "ename": "ValueError",
          "evalue": "ignored",
          "traceback": [
            "\u001b[0;31m---------------------------------------------------------------------------\u001b[0m",
            "\u001b[0;31mValueError\u001b[0m                                Traceback (most recent call last)",
            "\u001b[0;32m<ipython-input-20-b760e8989558>\u001b[0m in \u001b[0;36m<module>\u001b[0;34m\u001b[0m\n\u001b[1;32m      1\u001b[0m \u001b[0mred\u001b[0m \u001b[0;34m=\u001b[0m \u001b[0mRedNeuronal\u001b[0m\u001b[0;34m(\u001b[0m\u001b[0;34m)\u001b[0m\u001b[0;34m\u001b[0m\u001b[0;34m\u001b[0m\u001b[0m\n\u001b[0;32m----> 2\u001b[0;31m \u001b[0mred\u001b[0m\u001b[0;34m.\u001b[0m\u001b[0mforward_propagation\u001b[0m\u001b[0;34m(\u001b[0m\u001b[0mX\u001b[0m\u001b[0;34m)\u001b[0m\u001b[0;34m\u001b[0m\u001b[0;34m\u001b[0m\u001b[0m\n\u001b[0m",
            "\u001b[0;32m<ipython-input-19-2c32016ff241>\u001b[0m in \u001b[0;36mforward_propagation\u001b[0;34m(self, X)\u001b[0m\n\u001b[1;32m      8\u001b[0m \u001b[0;34m\u001b[0m\u001b[0m\n\u001b[1;32m      9\u001b[0m   \u001b[0;32mdef\u001b[0m \u001b[0mforward_propagation\u001b[0m\u001b[0;34m(\u001b[0m\u001b[0mself\u001b[0m\u001b[0;34m,\u001b[0m\u001b[0mX\u001b[0m\u001b[0;34m)\u001b[0m\u001b[0;34m:\u001b[0m\u001b[0;34m\u001b[0m\u001b[0;34m\u001b[0m\u001b[0m\n\u001b[0;32m---> 10\u001b[0;31m     \u001b[0mA\u001b[0m \u001b[0;34m=\u001b[0m \u001b[0msigmoid\u001b[0m\u001b[0;34m(\u001b[0m\u001b[0mnp\u001b[0m\u001b[0;34m.\u001b[0m\u001b[0mmatmul\u001b[0m\u001b[0;34m(\u001b[0m\u001b[0mX\u001b[0m\u001b[0;34m,\u001b[0m\u001b[0mself\u001b[0m\u001b[0;34m.\u001b[0m\u001b[0mWc1\u001b[0m\u001b[0;34m)\u001b[0m\u001b[0;34m)\u001b[0m\u001b[0;34m\u001b[0m\u001b[0;34m\u001b[0m\u001b[0m\n\u001b[0m\u001b[1;32m     11\u001b[0m     \u001b[0my_aprox\u001b[0m \u001b[0;34m=\u001b[0m \u001b[0msigmoid\u001b[0m\u001b[0;34m(\u001b[0m\u001b[0mnp\u001b[0m\u001b[0;34m.\u001b[0m\u001b[0mmatmul\u001b[0m\u001b[0;34m(\u001b[0m\u001b[0mA\u001b[0m\u001b[0;34m,\u001b[0m\u001b[0mself\u001b[0m\u001b[0;34m.\u001b[0m\u001b[0mWc2\u001b[0m\u001b[0;34m)\u001b[0m\u001b[0;34m)\u001b[0m\u001b[0;34m\u001b[0m\u001b[0;34m\u001b[0m\u001b[0m\n\u001b[1;32m     12\u001b[0m \u001b[0;34m\u001b[0m\u001b[0m\n",
            "\u001b[0;31mValueError\u001b[0m: matmul: Input operand 1 has a mismatch in its core dimension 0, with gufunc signature (n?,k),(k,m?)->(n?,m?) (size 0 is different from 3)"
          ]
        }
      ]
    },
    {
      "cell_type": "markdown",
      "metadata": {
        "id": "zzvKRkK8EQBI"
      },
      "source": [
        "<img src=\"https://i.imgur.com/IDFRq5a.png\">"
      ]
    },
    {
      "cell_type": "markdown",
      "metadata": {
        "id": "mOthS-Y8SxaV"
      },
      "source": [
        "[0.73105858 0.78583498 0.68997448]"
      ]
    },
    {
      "cell_type": "code",
      "metadata": {
        "id": "EbyD6o9xSw8A"
      },
      "source": [],
      "execution_count": null,
      "outputs": []
    },
    {
      "cell_type": "code",
      "metadata": {
        "id": "JqwT9ScPUnTc"
      },
      "source": [
        "class RedNeuronal:\n",
        "  def __init__(self):\n",
        "    # 1 fila por neurona , 1 columna por variable de entrada\n",
        "    self.Wc1 = np.array([\n",
        "        [0.8,0.2],\n",
        "        [0.4,0.9],\n",
        "        [0.3,0.5]    \n",
        "    ])\n",
        "\n",
        "    # 1 elemento para cada neurona intermedia\n",
        "    self. Wc2  = np.array([0.3,0.5,0.9])\n",
        "\n",
        "  def forward_propagation(self,X):\n",
        "    print(X.shape)\n",
        "    print(self.Wc1.T.shape)\n",
        "    A = sigmoid(np.matmul(X,self.Wc1.T)) # 1 fila por observacion, 1 columna por representacion intermedia [4,3]\n",
        "    print(A)\n",
        "    print(A.shape)\n",
        "    y_aprox = sigmoid(np.matmul(A,self.Wc2)) # 1 fila por observacion,  1 unica salida [4,1]\n",
        "    print(y_aprox.shape)\n",
        "    return y_aprox"
      ],
      "execution_count": null,
      "outputs": []
    },
    {
      "cell_type": "code",
      "metadata": {
        "id": "ErGGNxXUOmm1"
      },
      "source": [
        "# 4 observaciones, 2 variables\n",
        "X = np.array([\n",
        "      [1,1],\n",
        "      [1,2],\n",
        "      [4,5],\n",
        "      [6,7],\n",
        "])"
      ],
      "execution_count": null,
      "outputs": []
    },
    {
      "cell_type": "code",
      "metadata": {
        "id": "EJ8aX9rtP8UL",
        "colab": {
          "base_uri": "https://localhost:8080/",
          "height": 156
        },
        "outputId": "d0e4c0e0-fa51-423c-c153-44005f8c743c"
      },
      "source": [
        "red = RedNeuronal()\n",
        "y_aprox = red.forward_propagation(X)"
      ],
      "execution_count": null,
      "outputs": [
        {
          "output_type": "stream",
          "text": [
            "(4, 2)\n",
            "(2, 3)\n",
            "[[0.73105858 0.78583498 0.68997448]\n",
            " [0.76852478 0.90024951 0.78583498]\n",
            " [0.98522597 0.99776215 0.97587298]\n",
            " [0.99797468 0.99983344 0.9950332 ]]\n",
            "(4, 3)\n",
            "(4,)\n"
          ],
          "name": "stdout"
        }
      ]
    },
    {
      "cell_type": "code",
      "metadata": {
        "id": "bqvVlr8nQG83",
        "colab": {
          "base_uri": "https://localhost:8080/",
          "height": 34
        },
        "outputId": "40b87d92-0b00-4be3-e62a-92d175c44fa4"
      },
      "source": [
        "y_aprox"
      ],
      "execution_count": null,
      "outputs": [
        {
          "output_type": "execute_result",
          "data": {
            "text/plain": [
              "array([0.77438027, 0.80026216, 0.84194007, 0.84485948])"
            ]
          },
          "metadata": {
            "tags": []
          },
          "execution_count": 43
        }
      ]
    },
    {
      "cell_type": "markdown",
      "source": [
        "## Completar ejercicio"
      ],
      "metadata": {
        "id": "Clw1PZ21PU1E"
      }
    },
    {
      "cell_type": "markdown",
      "source": [
        "<img src='https://drive.google.com/uc?id=1E2WEpjJLJlOwhTQrzgeCrBbyBEIzFoek'/>\n"
      ],
      "metadata": {
        "id": "rrsykI10Q3g_"
      }
    },
    {
      "cell_type": "code",
      "source": [
        "Wc1 = np.array([\n",
        "   [20,20],\n",
        "   [-20,-20]\n",
        "])\n",
        "\n",
        "Wc2 = np.array([20,20])\n",
        "\n",
        "bias = np.array([-10,30])"
      ],
      "metadata": {
        "id": "2hTYLVYOR9jK"
      },
      "execution_count": 108,
      "outputs": []
    },
    {
      "cell_type": "code",
      "source": [
        "def sigmoid(X):\n",
        "  return 1/(1+np.exp(-X))"
      ],
      "metadata": {
        "id": "QLL3mwD-SsL9"
      },
      "execution_count": 109,
      "outputs": []
    },
    {
      "cell_type": "markdown",
      "source": [
        "### Forward-propagation(inferencia, prediccion, o estimacion)\n"
      ],
      "metadata": {
        "id": "0665KwG6TPs-"
      }
    },
    {
      "cell_type": "code",
      "source": [
        "# 4 observaciones, 2 variables\n",
        "X = np.array([\n",
        "      [8,7],\n",
        "      [6,7]\n",
        "])"
      ],
      "metadata": {
        "id": "igDtE7U6TYUM"
      },
      "execution_count": 110,
      "outputs": []
    },
    {
      "cell_type": "code",
      "source": [
        "H = np.matmul(X,Wc1) + bias"
      ],
      "metadata": {
        "id": "u9Orin9jTQs1"
      },
      "execution_count": 111,
      "outputs": []
    },
    {
      "cell_type": "code",
      "source": [
        "df = pd.DataFrame(H, columns=['H1','H2'])\n",
        "plt.scatter(df['H1'][0], df['H2'][0], c='b', marker='o')\n",
        "plt.scatter(df['H1'][1], df['H2'][1], c='r', marker='*')\n",
        "plt.show()"
      ],
      "metadata": {
        "colab": {
          "base_uri": "https://localhost:8080/",
          "height": 265
        },
        "id": "dyl4BodaVVUq",
        "outputId": "66d0e828-7272-4e6f-c8d9-5ce7bb9c4615"
      },
      "execution_count": 112,
      "outputs": [
        {
          "output_type": "display_data",
          "data": {
            "text/plain": [
              "<Figure size 432x288 with 1 Axes>"
            ],
            "image/png": "[encoded data removed]"
          },
          "metadata": {
            "needs_background": "light"
          }
        }
      ]
    },
    {
      "cell_type": "markdown",
      "source": [
        "## Conclusiones\n",
        "\n",
        "La gráfica refleja el impacto del sesgo para cada neurona, ya que la salida intermedia indica valores positivos más grandes para la segunda neurona debido a un sesgo positivo."
      ],
      "metadata": {
        "id": "AUWqGRmra2h_"
      }
    }
  ]
}