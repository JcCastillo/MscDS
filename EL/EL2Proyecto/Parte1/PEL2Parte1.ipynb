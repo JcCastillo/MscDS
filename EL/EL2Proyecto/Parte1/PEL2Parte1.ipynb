{
 "cells": [
  {
   "cell_type": "code",
   "execution_count": 1,
   "id": "5a72a82f-77bf-4ce9-a492-c4729f4b65ba",
   "metadata": {},
   "outputs": [],
   "source": [
    "#librerias base\n",
    "import pandas as pd\n",
    "import numpy as np\n",
    "from matplotlib import pyplot as plt\n",
    "from sklearn.preprocessing import MinMaxScaler\n",
    "from sklearn.preprocessing import StandardScaler\n",
    "import seaborn as sns\n",
    "from sklearn.model_selection import train_test_split\n",
    "from collections import defaultdict\n",
    "from sklearn.ensemble import ExtraTreesClassifier\n",
    "\n",
    "#keras - tensorflow\n",
    "from tensorflow.keras.callbacks import ModelCheckpoint\n",
    "from keras.utils.vis_utils import plot_model\n",
    "import tensorflow as tf\n",
    "from tensorflow.keras import layers\n",
    "import keras\n",
    "from keras.models import Sequential\n",
    "from keras.layers import Dense\n",
    "from keras.layers import Conv2D\n",
    "from keras.layers import MaxPool2D\n",
    "from keras.layers import Flatten"
   ]
  },
  {
   "cell_type": "code",
   "execution_count": 2,
   "id": "220948f9-1dc4-4b68-9732-7ab3fd593265",
   "metadata": {},
   "outputs": [],
   "source": [
    "#Carga de datos\n",
    "diabetes_data = pd.read_csv('./diabetes.csv')"
   ]
  },
  {
   "cell_type": "code",
   "execution_count": 3,
   "id": "ef54620a-ed2b-4337-b172-72f2abcc0dd6",
   "metadata": {},
   "outputs": [
    {
     "data": {
      "text/html": [
       "<div>\n",
       "<style scoped>\n",
       "    .dataframe tbody tr th:only-of-type {\n",
       "        vertical-align: middle;\n",
       "    }\n",
       "\n",
       "    .dataframe tbody tr th {\n",
       "        vertical-align: top;\n",
       "    }\n",
       "\n",
       "    .dataframe thead th {\n",
       "        text-align: right;\n",
       "    }\n",
       "</style>\n",
       "<table border=\"1\" class=\"dataframe\">\n",
       "  <thead>\n",
       "    <tr style=\"text-align: right;\">\n",
       "      <th></th>\n",
       "      <th>Pregnancies</th>\n",
       "      <th>Glucose</th>\n",
       "      <th>BloodPressure</th>\n",
       "      <th>SkinThickness</th>\n",
       "      <th>Insulin</th>\n",
       "      <th>BMI</th>\n",
       "      <th>DiabetesPedigreeFunction</th>\n",
       "      <th>Age</th>\n",
       "      <th>Outcome</th>\n",
       "    </tr>\n",
       "  </thead>\n",
       "  <tbody>\n",
       "    <tr>\n",
       "      <th>0</th>\n",
       "      <td>6</td>\n",
       "      <td>148</td>\n",
       "      <td>72</td>\n",
       "      <td>35</td>\n",
       "      <td>0</td>\n",
       "      <td>33.6</td>\n",
       "      <td>0.627</td>\n",
       "      <td>50</td>\n",
       "      <td>1</td>\n",
       "    </tr>\n",
       "    <tr>\n",
       "      <th>1</th>\n",
       "      <td>1</td>\n",
       "      <td>85</td>\n",
       "      <td>66</td>\n",
       "      <td>29</td>\n",
       "      <td>0</td>\n",
       "      <td>26.6</td>\n",
       "      <td>0.351</td>\n",
       "      <td>31</td>\n",
       "      <td>0</td>\n",
       "    </tr>\n",
       "    <tr>\n",
       "      <th>2</th>\n",
       "      <td>8</td>\n",
       "      <td>183</td>\n",
       "      <td>64</td>\n",
       "      <td>0</td>\n",
       "      <td>0</td>\n",
       "      <td>23.3</td>\n",
       "      <td>0.672</td>\n",
       "      <td>32</td>\n",
       "      <td>1</td>\n",
       "    </tr>\n",
       "    <tr>\n",
       "      <th>3</th>\n",
       "      <td>1</td>\n",
       "      <td>89</td>\n",
       "      <td>66</td>\n",
       "      <td>23</td>\n",
       "      <td>94</td>\n",
       "      <td>28.1</td>\n",
       "      <td>0.167</td>\n",
       "      <td>21</td>\n",
       "      <td>0</td>\n",
       "    </tr>\n",
       "    <tr>\n",
       "      <th>4</th>\n",
       "      <td>0</td>\n",
       "      <td>137</td>\n",
       "      <td>40</td>\n",
       "      <td>35</td>\n",
       "      <td>168</td>\n",
       "      <td>43.1</td>\n",
       "      <td>2.288</td>\n",
       "      <td>33</td>\n",
       "      <td>1</td>\n",
       "    </tr>\n",
       "  </tbody>\n",
       "</table>\n",
       "</div>"
      ],
      "text/plain": [
       "   Pregnancies  Glucose  BloodPressure  SkinThickness  Insulin   BMI  \\\n",
       "0            6      148             72             35        0  33.6   \n",
       "1            1       85             66             29        0  26.6   \n",
       "2            8      183             64              0        0  23.3   \n",
       "3            1       89             66             23       94  28.1   \n",
       "4            0      137             40             35      168  43.1   \n",
       "\n",
       "   DiabetesPedigreeFunction  Age  Outcome  \n",
       "0                     0.627   50        1  \n",
       "1                     0.351   31        0  \n",
       "2                     0.672   32        1  \n",
       "3                     0.167   21        0  \n",
       "4                     2.288   33        1  "
      ]
     },
     "execution_count": 3,
     "metadata": {},
     "output_type": "execute_result"
    }
   ],
   "source": [
    "#Exploración de datos\n",
    "diabetes_data.head()"
   ]
  },
  {
   "cell_type": "code",
   "execution_count": 4,
   "id": "dfd6738e-0e5c-4e40-9219-f3ec2e9123e4",
   "metadata": {},
   "outputs": [
    {
     "data": {
      "text/plain": [
       "Pregnancies                 False\n",
       "Glucose                     False\n",
       "BloodPressure               False\n",
       "SkinThickness               False\n",
       "Insulin                     False\n",
       "BMI                         False\n",
       "DiabetesPedigreeFunction    False\n",
       "Age                         False\n",
       "Outcome                     False\n",
       "dtype: bool"
      ]
     },
     "execution_count": 4,
     "metadata": {},
     "output_type": "execute_result"
    }
   ],
   "source": [
    "#Preparación de datos \n",
    "diabetes_data.isna().any()"
   ]
  },
  {
   "cell_type": "code",
   "execution_count": 5,
   "id": "20725510-cda4-4b18-b8d2-b8b51999e5ba",
   "metadata": {},
   "outputs": [
    {
     "name": "stdout",
     "output_type": "stream",
     "text": [
      "Pregnancies                   int64\n",
      "Glucose                       int64\n",
      "BloodPressure                 int64\n",
      "SkinThickness                 int64\n",
      "Insulin                       int64\n",
      "BMI                         float64\n",
      "DiabetesPedigreeFunction    float64\n",
      "Age                           int64\n",
      "Outcome                       int64\n",
      "dtype: object\n"
     ]
    }
   ],
   "source": [
    "print(diabetes_data.dtypes)"
   ]
  },
  {
   "cell_type": "code",
   "execution_count": 6,
   "id": "75de324f-04d5-4895-b7ab-a34795dd9f3b",
   "metadata": {},
   "outputs": [
    {
     "name": "stdout",
     "output_type": "stream",
     "text": [
      "<class 'pandas.core.frame.DataFrame'>\n",
      "RangeIndex: 768 entries, 0 to 767\n",
      "Data columns (total 9 columns):\n",
      " #   Column                    Non-Null Count  Dtype  \n",
      "---  ------                    --------------  -----  \n",
      " 0   Pregnancies               768 non-null    int64  \n",
      " 1   Glucose                   768 non-null    int64  \n",
      " 2   BloodPressure             768 non-null    int64  \n",
      " 3   SkinThickness             768 non-null    int64  \n",
      " 4   Insulin                   768 non-null    int64  \n",
      " 5   BMI                       768 non-null    float64\n",
      " 6   DiabetesPedigreeFunction  768 non-null    float64\n",
      " 7   Age                       768 non-null    int64  \n",
      " 8   Outcome                   768 non-null    int64  \n",
      "dtypes: float64(2), int64(7)\n",
      "memory usage: 54.1 KB\n",
      "None\n"
     ]
    }
   ],
   "source": [
    "print(diabetes_data.info())"
   ]
  },
  {
   "cell_type": "code",
   "execution_count": 7,
   "id": "5911cb81-7241-4a0b-9b5f-76d2a982a855",
   "metadata": {},
   "outputs": [
    {
     "data": {
      "image/png": "[encoded data removed]",
      "text/plain": [
       "<Figure size 864x720 with 2 Axes>"
      ]
     },
     "metadata": {
      "needs_background": "light"
     },
     "output_type": "display_data"
    }
   ],
   "source": [
    "#Matriz de correlación\n",
    "#df=diabetes_data.drop(['Outcome'],axis=1)\n",
    "df = diabetes_data\n",
    "plt.figure(figsize=(12,10))  # on this line I just set the size of figure to 12 by 10.\n",
    "p=sns.heatmap(df.corr(), annot=True,cmap ='YlGnBu')"
   ]
  },
  {
   "cell_type": "code",
   "execution_count": 8,
   "id": "202d5b86-214c-47bc-b890-2ca31f475324",
   "metadata": {},
   "outputs": [],
   "source": [
    "#Normalización de datos\n",
    "scaler = MinMaxScaler()\n",
    "df_scale = scaler.fit_transform(df.iloc[:, :8])\n",
    "\n",
    "df_scale = pd.DataFrame(df_scale)\n",
    "df_scale[\"Outcome\"] = diabetes_data[\"Outcome\"]\n",
    "df_scale.columns = df.columns"
   ]
  },
  {
   "cell_type": "code",
   "execution_count": 9,
   "id": "e849cf04-e0d7-41b9-8239-185abd5c5cca",
   "metadata": {},
   "outputs": [
    {
     "data": {
      "text/html": [
       "<div>\n",
       "<style scoped>\n",
       "    .dataframe tbody tr th:only-of-type {\n",
       "        vertical-align: middle;\n",
       "    }\n",
       "\n",
       "    .dataframe tbody tr th {\n",
       "        vertical-align: top;\n",
       "    }\n",
       "\n",
       "    .dataframe thead th {\n",
       "        text-align: right;\n",
       "    }\n",
       "</style>\n",
       "<table border=\"1\" class=\"dataframe\">\n",
       "  <thead>\n",
       "    <tr style=\"text-align: right;\">\n",
       "      <th></th>\n",
       "      <th>Pregnancies</th>\n",
       "      <th>Glucose</th>\n",
       "      <th>BloodPressure</th>\n",
       "      <th>SkinThickness</th>\n",
       "      <th>Insulin</th>\n",
       "      <th>BMI</th>\n",
       "      <th>DiabetesPedigreeFunction</th>\n",
       "      <th>Age</th>\n",
       "      <th>Outcome</th>\n",
       "    </tr>\n",
       "  </thead>\n",
       "  <tbody>\n",
       "    <tr>\n",
       "      <th>0</th>\n",
       "      <td>0.352941</td>\n",
       "      <td>0.743719</td>\n",
       "      <td>0.590164</td>\n",
       "      <td>0.353535</td>\n",
       "      <td>0.000000</td>\n",
       "      <td>0.500745</td>\n",
       "      <td>0.234415</td>\n",
       "      <td>0.483333</td>\n",
       "      <td>1</td>\n",
       "    </tr>\n",
       "    <tr>\n",
       "      <th>1</th>\n",
       "      <td>0.058824</td>\n",
       "      <td>0.427136</td>\n",
       "      <td>0.540984</td>\n",
       "      <td>0.292929</td>\n",
       "      <td>0.000000</td>\n",
       "      <td>0.396423</td>\n",
       "      <td>0.116567</td>\n",
       "      <td>0.166667</td>\n",
       "      <td>0</td>\n",
       "    </tr>\n",
       "    <tr>\n",
       "      <th>2</th>\n",
       "      <td>0.470588</td>\n",
       "      <td>0.919598</td>\n",
       "      <td>0.524590</td>\n",
       "      <td>0.000000</td>\n",
       "      <td>0.000000</td>\n",
       "      <td>0.347243</td>\n",
       "      <td>0.253629</td>\n",
       "      <td>0.183333</td>\n",
       "      <td>1</td>\n",
       "    </tr>\n",
       "    <tr>\n",
       "      <th>3</th>\n",
       "      <td>0.058824</td>\n",
       "      <td>0.447236</td>\n",
       "      <td>0.540984</td>\n",
       "      <td>0.232323</td>\n",
       "      <td>0.111111</td>\n",
       "      <td>0.418778</td>\n",
       "      <td>0.038002</td>\n",
       "      <td>0.000000</td>\n",
       "      <td>0</td>\n",
       "    </tr>\n",
       "    <tr>\n",
       "      <th>4</th>\n",
       "      <td>0.000000</td>\n",
       "      <td>0.688442</td>\n",
       "      <td>0.327869</td>\n",
       "      <td>0.353535</td>\n",
       "      <td>0.198582</td>\n",
       "      <td>0.642325</td>\n",
       "      <td>0.943638</td>\n",
       "      <td>0.200000</td>\n",
       "      <td>1</td>\n",
       "    </tr>\n",
       "    <tr>\n",
       "      <th>...</th>\n",
       "      <td>...</td>\n",
       "      <td>...</td>\n",
       "      <td>...</td>\n",
       "      <td>...</td>\n",
       "      <td>...</td>\n",
       "      <td>...</td>\n",
       "      <td>...</td>\n",
       "      <td>...</td>\n",
       "      <td>...</td>\n",
       "    </tr>\n",
       "    <tr>\n",
       "      <th>763</th>\n",
       "      <td>0.588235</td>\n",
       "      <td>0.507538</td>\n",
       "      <td>0.622951</td>\n",
       "      <td>0.484848</td>\n",
       "      <td>0.212766</td>\n",
       "      <td>0.490313</td>\n",
       "      <td>0.039710</td>\n",
       "      <td>0.700000</td>\n",
       "      <td>0</td>\n",
       "    </tr>\n",
       "    <tr>\n",
       "      <th>764</th>\n",
       "      <td>0.117647</td>\n",
       "      <td>0.613065</td>\n",
       "      <td>0.573770</td>\n",
       "      <td>0.272727</td>\n",
       "      <td>0.000000</td>\n",
       "      <td>0.548435</td>\n",
       "      <td>0.111870</td>\n",
       "      <td>0.100000</td>\n",
       "      <td>0</td>\n",
       "    </tr>\n",
       "    <tr>\n",
       "      <th>765</th>\n",
       "      <td>0.294118</td>\n",
       "      <td>0.608040</td>\n",
       "      <td>0.590164</td>\n",
       "      <td>0.232323</td>\n",
       "      <td>0.132388</td>\n",
       "      <td>0.390462</td>\n",
       "      <td>0.071307</td>\n",
       "      <td>0.150000</td>\n",
       "      <td>0</td>\n",
       "    </tr>\n",
       "    <tr>\n",
       "      <th>766</th>\n",
       "      <td>0.058824</td>\n",
       "      <td>0.633166</td>\n",
       "      <td>0.491803</td>\n",
       "      <td>0.000000</td>\n",
       "      <td>0.000000</td>\n",
       "      <td>0.448584</td>\n",
       "      <td>0.115713</td>\n",
       "      <td>0.433333</td>\n",
       "      <td>1</td>\n",
       "    </tr>\n",
       "    <tr>\n",
       "      <th>767</th>\n",
       "      <td>0.058824</td>\n",
       "      <td>0.467337</td>\n",
       "      <td>0.573770</td>\n",
       "      <td>0.313131</td>\n",
       "      <td>0.000000</td>\n",
       "      <td>0.453055</td>\n",
       "      <td>0.101196</td>\n",
       "      <td>0.033333</td>\n",
       "      <td>0</td>\n",
       "    </tr>\n",
       "  </tbody>\n",
       "</table>\n",
       "<p>768 rows × 9 columns</p>\n",
       "</div>"
      ],
      "text/plain": [
       "     Pregnancies   Glucose  BloodPressure  SkinThickness   Insulin       BMI  \\\n",
       "0       0.352941  0.743719       0.590164       0.353535  0.000000  0.500745   \n",
       "1       0.058824  0.427136       0.540984       0.292929  0.000000  0.396423   \n",
       "2       0.470588  0.919598       0.524590       0.000000  0.000000  0.347243   \n",
       "3       0.058824  0.447236       0.540984       0.232323  0.111111  0.418778   \n",
       "4       0.000000  0.688442       0.327869       0.353535  0.198582  0.642325   \n",
       "..           ...       ...            ...            ...       ...       ...   \n",
       "763     0.588235  0.507538       0.622951       0.484848  0.212766  0.490313   \n",
       "764     0.117647  0.613065       0.573770       0.272727  0.000000  0.548435   \n",
       "765     0.294118  0.608040       0.590164       0.232323  0.132388  0.390462   \n",
       "766     0.058824  0.633166       0.491803       0.000000  0.000000  0.448584   \n",
       "767     0.058824  0.467337       0.573770       0.313131  0.000000  0.453055   \n",
       "\n",
       "     DiabetesPedigreeFunction       Age  Outcome  \n",
       "0                    0.234415  0.483333        1  \n",
       "1                    0.116567  0.166667        0  \n",
       "2                    0.253629  0.183333        1  \n",
       "3                    0.038002  0.000000        0  \n",
       "4                    0.943638  0.200000        1  \n",
       "..                        ...       ...      ...  \n",
       "763                  0.039710  0.700000        0  \n",
       "764                  0.111870  0.100000        0  \n",
       "765                  0.071307  0.150000        0  \n",
       "766                  0.115713  0.433333        1  \n",
       "767                  0.101196  0.033333        0  \n",
       "\n",
       "[768 rows x 9 columns]"
      ]
     },
     "execution_count": 9,
     "metadata": {},
     "output_type": "execute_result"
    }
   ],
   "source": [
    "df_scale"
   ]
  },
  {
   "cell_type": "code",
   "execution_count": 10,
   "id": "4767e48c-1c8c-4b44-87e4-ee097612bb29",
   "metadata": {},
   "outputs": [],
   "source": [
    "#Separar variables dependientes\n",
    "df_x = df_scale.iloc[:,0:7]\n",
    "df_y = df_scale.iloc[:,-1:]"
   ]
  },
  {
   "cell_type": "code",
   "execution_count": 11,
   "id": "24588953-defb-4032-bb4d-ea58310b8633",
   "metadata": {},
   "outputs": [],
   "source": [
    "#train validation test split 70 train 15 validation 15 test\n",
    "x_train, x_test, y_train, y_test = train_test_split(df_x, df_y, test_size = 0.3,random_state=42)\n",
    "x_validate, x_test, y_validate, y_test = train_test_split(x_test, y_test, test_size = 0.5, random_state=42)"
   ]
  },
  {
   "cell_type": "code",
   "execution_count": 12,
   "id": "22c4598c-dce6-4d97-88c0-e70730a53a88",
   "metadata": {},
   "outputs": [
    {
     "data": {
      "text/plain": [
       "(537, 7)"
      ]
     },
     "execution_count": 12,
     "metadata": {},
     "output_type": "execute_result"
    }
   ],
   "source": [
    "x_train.shape"
   ]
  },
  {
   "cell_type": "code",
   "execution_count": 13,
   "id": "c74b5407-ced4-436d-b43c-616871f73c67",
   "metadata": {},
   "outputs": [
    {
     "data": {
      "image/png": "[encoded data removed]",
      "text/plain": [
       "<Figure size 432x288 with 1 Axes>"
      ]
     },
     "metadata": {
      "needs_background": "light"
     },
     "output_type": "display_data"
    }
   ],
   "source": [
    "#Importancia de variables\n",
    "\n",
    "clf = ExtraTreesClassifier(n_estimators=250,\n",
    "                              random_state=7)\n",
    "\n",
    "clf.fit(x_train, np.ravel(y_train))\n",
    "\n",
    "# #############################################################################\n",
    "# Plot feature importance\n",
    "feature_importance = clf.feature_importances_\n",
    "# make importances relative to max importance\n",
    "feature_importance = 100.0 * (feature_importance / feature_importance.max())\n",
    "sorted_idx = np.argsort(feature_importance)\n",
    "pos = np.arange(sorted_idx.shape[0]) + .5\n",
    "plt.subplot(1, 2, 2)\n",
    "plt.barh(pos, feature_importance[sorted_idx], align='center')\n",
    "plt.yticks(pos, df.columns[sorted_idx])#boston.feature_names[sorted_idx])\n",
    "plt.xlabel('Importancia relativa')\n",
    "plt.title('Importancia de variable')\n",
    "plt.show()"
   ]
  },
  {
   "cell_type": "code",
   "execution_count": 14,
   "id": "640adfdd-8979-4e50-b915-162618d04612",
   "metadata": {},
   "outputs": [],
   "source": [
    "x_train = x_train[[\"Glucose\",\"BMI\",\"DiabetesPedigreeFunction\", \"Pregnancies\"]]\n",
    "x_validate = x_validate[[\"Glucose\",\"BMI\",\"DiabetesPedigreeFunction\", \"Pregnancies\"]]\n",
    "x_test = x_test[[\"Glucose\",\"BMI\",\"DiabetesPedigreeFunction\", \"Pregnancies\"]]"
   ]
  },
  {
   "cell_type": "code",
   "execution_count": 15,
   "id": "e09dffe8-32d6-4509-8d3e-3093eaad9f02",
   "metadata": {},
   "outputs": [],
   "source": [
    "def bitacora(confString, stadistics):\n",
    "  dfdic = pd.DataFrame(stadistics,index=[0])\n",
    "  dfdic.insert(loc=0,column='configString', value=confString)\n",
    "  with open(\"./Bitacora.csv\", 'a') as f:\n",
    "    dfdic.to_csv(f, mode='a', header=False)\n",
    "    \n",
    "def SummaryString(model):\n",
    "    stringlist = []\n",
    "    model.summary(print_fn=lambda x: stringlist.append(x))\n",
    "    short_model_summary = \"\\n\".join(stringlist)\n",
    "    return short_model_summary"
   ]
  },
  {
   "cell_type": "markdown",
   "id": "fed742ef-229b-4c1b-b3f8-f2c272e3b7f1",
   "metadata": {},
   "source": [
    "## Modelo"
   ]
  },
  {
   "cell_type": "code",
   "execution_count": 16,
   "id": "672c632a-5a4e-440f-a22a-83f5af23af9f",
   "metadata": {},
   "outputs": [],
   "source": [
    "alphaRelu = 0.05\n",
    "ann = keras.Sequential([\n",
    "    layers.Dense(4,input_shape=(4,)),\n",
    "    layers.LeakyReLU(alpha=alphaRelu),\n",
    "    layers.BatchNormalization(),\n",
    "    layers.Dense(2),\n",
    "    layers.LeakyReLU(alpha=alphaRelu),\n",
    "    layers.Dense(2),\n",
    "    layers.LeakyReLU(alpha=alphaRelu),\n",
    "    layers.Dense(1,activation='sigmoid'),\n",
    "])"
   ]
  },
  {
   "cell_type": "code",
   "execution_count": 17,
   "id": "6b48dfd5-78de-479f-a3e2-5c3dee2547fd",
   "metadata": {},
   "outputs": [],
   "source": [
    "#Compilación de modelo\n",
    "ann.compile(loss=\"categorical_crossentropy\",\n",
    "              optimizer=\"adam\",\n",
    "              metrics = ['accuracy'])"
   ]
  },
  {
   "cell_type": "code",
   "execution_count": 18,
   "id": "dd808779-c415-4006-937d-57147d3c947d",
   "metadata": {},
   "outputs": [],
   "source": [
    "#Creación de checkpoint\n",
    "filepath=\"./Parte1.weights.best.hdf5\"\n",
    "checkpoint = ModelCheckpoint(filepath, monitor='val_accuracy', verbose=1, save_best_only=True, mode='max')\n",
    "callbacks_list = [checkpoint]"
   ]
  },
  {
   "cell_type": "code",
   "execution_count": 19,
   "id": "43b73d78-40b1-4061-a2fb-fc05d499784c",
   "metadata": {},
   "outputs": [
    {
     "name": "stdout",
     "output_type": "stream",
     "text": [
      "\n",
      "Epoch 1: val_accuracy improved from -inf to 0.67826, saving model to .\\Parte1.weights.best.hdf5\n",
      "\n",
      "Epoch 2: val_accuracy did not improve from 0.67826\n",
      "\n",
      "Epoch 3: val_accuracy did not improve from 0.67826\n",
      "\n",
      "Epoch 4: val_accuracy did not improve from 0.67826\n",
      "\n",
      "Epoch 5: val_accuracy did not improve from 0.67826\n",
      "\n",
      "Epoch 6: val_accuracy did not improve from 0.67826\n",
      "\n",
      "Epoch 7: val_accuracy did not improve from 0.67826\n",
      "\n",
      "Epoch 8: val_accuracy improved from 0.67826 to 0.68696, saving model to .\\Parte1.weights.best.hdf5\n",
      "\n",
      "Epoch 9: val_accuracy improved from 0.68696 to 0.71304, saving model to .\\Parte1.weights.best.hdf5\n",
      "\n",
      "Epoch 10: val_accuracy improved from 0.71304 to 0.73043, saving model to .\\Parte1.weights.best.hdf5\n",
      "\n",
      "Epoch 11: val_accuracy did not improve from 0.73043\n",
      "\n",
      "Epoch 12: val_accuracy improved from 0.73043 to 0.73913, saving model to .\\Parte1.weights.best.hdf5\n",
      "\n",
      "Epoch 13: val_accuracy improved from 0.73913 to 0.75652, saving model to .\\Parte1.weights.best.hdf5\n",
      "\n",
      "Epoch 14: val_accuracy did not improve from 0.75652\n",
      "\n",
      "Epoch 15: val_accuracy did not improve from 0.75652\n",
      "\n",
      "Epoch 16: val_accuracy improved from 0.75652 to 0.76522, saving model to .\\Parte1.weights.best.hdf5\n",
      "\n",
      "Epoch 17: val_accuracy improved from 0.76522 to 0.77391, saving model to .\\Parte1.weights.best.hdf5\n",
      "\n",
      "Epoch 18: val_accuracy did not improve from 0.77391\n",
      "\n",
      "Epoch 19: val_accuracy did not improve from 0.77391\n",
      "\n",
      "Epoch 20: val_accuracy did not improve from 0.77391\n",
      "\n",
      "Epoch 21: val_accuracy did not improve from 0.77391\n",
      "\n",
      "Epoch 22: val_accuracy did not improve from 0.77391\n",
      "\n",
      "Epoch 23: val_accuracy did not improve from 0.77391\n",
      "\n",
      "Epoch 24: val_accuracy did not improve from 0.77391\n",
      "\n",
      "Epoch 25: val_accuracy did not improve from 0.77391\n",
      "\n",
      "Epoch 26: val_accuracy did not improve from 0.77391\n",
      "\n",
      "Epoch 27: val_accuracy did not improve from 0.77391\n",
      "\n",
      "Epoch 28: val_accuracy did not improve from 0.77391\n",
      "\n",
      "Epoch 29: val_accuracy did not improve from 0.77391\n",
      "\n",
      "Epoch 30: val_accuracy did not improve from 0.77391\n",
      "\n",
      "Epoch 31: val_accuracy did not improve from 0.77391\n",
      "\n",
      "Epoch 32: val_accuracy did not improve from 0.77391\n",
      "\n",
      "Epoch 33: val_accuracy did not improve from 0.77391\n",
      "\n",
      "Epoch 34: val_accuracy did not improve from 0.77391\n",
      "\n",
      "Epoch 35: val_accuracy did not improve from 0.77391\n",
      "\n",
      "Epoch 36: val_accuracy did not improve from 0.77391\n",
      "\n",
      "Epoch 37: val_accuracy did not improve from 0.77391\n",
      "\n",
      "Epoch 38: val_accuracy did not improve from 0.77391\n",
      "\n",
      "Epoch 39: val_accuracy did not improve from 0.77391\n",
      "\n",
      "Epoch 40: val_accuracy did not improve from 0.77391\n",
      "\n",
      "Epoch 41: val_accuracy did not improve from 0.77391\n",
      "\n",
      "Epoch 42: val_accuracy did not improve from 0.77391\n",
      "\n",
      "Epoch 43: val_accuracy did not improve from 0.77391\n",
      "\n",
      "Epoch 44: val_accuracy did not improve from 0.77391\n",
      "\n",
      "Epoch 45: val_accuracy did not improve from 0.77391\n",
      "\n",
      "Epoch 46: val_accuracy did not improve from 0.77391\n",
      "\n",
      "Epoch 47: val_accuracy did not improve from 0.77391\n",
      "\n",
      "Epoch 48: val_accuracy did not improve from 0.77391\n",
      "\n",
      "Epoch 49: val_accuracy did not improve from 0.77391\n",
      "\n",
      "Epoch 50: val_accuracy did not improve from 0.77391\n"
     ]
    },
    {
     "data": {
      "text/plain": [
       "<keras.callbacks.History at 0x2732ad511c0>"
      ]
     },
     "execution_count": 19,
     "metadata": {},
     "output_type": "execute_result"
    }
   ],
   "source": [
    "#Entrenamiento\n",
    "ann.fit(x_train, y_train, batch_size=10, epochs=50, validation_data=(x_validate, y_validate), callbacks=callbacks_list, verbose=0)"
   ]
  },
  {
   "cell_type": "code",
   "execution_count": 20,
   "id": "47cd3177-a721-4d2f-bc56-1c3c7515aef3",
   "metadata": {},
   "outputs": [
    {
     "name": "stdout",
     "output_type": "stream",
     "text": [
      "4/4 [==============================] - 0s 2ms/step - loss: 0.0000e+00 - accuracy: 0.7931\n"
     ]
    }
   ],
   "source": [
    "#Metricas\n",
    "res_dict_tree = defaultdict(lambda: \"Not present\")\n",
    "test_loss, test_acc = ann.evaluate(x_test, y_test)\n",
    "res_dict_tree[\"Accuracy_test\"] = test_acc\n",
    "res_dict_tree[\"Test_loss\"] = test_loss\n",
    "ss = SummaryString(ann)\n",
    "bitacora(ss,res_dict_tree)"
   ]
  },
  {
   "cell_type": "markdown",
   "id": "be112bac-4ac1-44fc-a569-4fce823dce39",
   "metadata": {},
   "source": [
    "# Conclusiones\n",
    "\n",
    "Luego de realizar distintos experimentos, adjuntos en archivo Bitacora.csv, se establecio una red neural sencilla con 2 capas intermedias de 2 neuronas cada una, se utilizo la función de activación LeakyReLU que obtuvo mejores resultados que la función Relu.\n",
    "\n",
    "Adjunto diagrama final de modelo.\n"
   ]
  },
  {
   "cell_type": "code",
   "execution_count": 21,
   "id": "aa4a9d91-57c1-4a36-91bb-70d2cddd5a21",
   "metadata": {},
   "outputs": [
    {
     "data": {
      "image/png": "[encoded data removed]",
      "text/plain": [
       "<IPython.core.display.Image object>"
      ]
     },
     "execution_count": 21,
     "metadata": {},
     "output_type": "execute_result"
    }
   ],
   "source": [
    "plot_model(ann, to_file='Parte1.png', show_shapes=True, show_layer_names=True)"
   ]
  },
  {
   "cell_type": "markdown",
   "id": "3735b37f-b8f5-45e4-a17f-c71e96d2afcb",
   "metadata": {},
   "source": [
    "# Publicación\n",
    "El proceso de publicación de la red entrenada a produción se puede realizar guardando los pesos de la red en un archivo ***HDF5***, formato utilizado por Keras.\n",
    "\n",
    "Para realizar un despliegue por ejemplo a una página web, se puede usar un framework muy liviando de frontend para utlizar python como backend, según la investigación realizada ***Flask*** es la herramienta utilizada generalmente."
   ]
  }
 ],
 "metadata": {
  "kernelspec": {
   "display_name": "Python 3 (ipykernel)",
   "language": "python",
   "name": "python3"
  },
  "language_info": {
   "codemirror_mode": {
    "name": "ipython",
    "version": 3
   },
   "file_extension": ".py",
   "mimetype": "text/x-python",
   "name": "python",
   "nbconvert_exporter": "python",
   "pygments_lexer": "ipython3",
   "version": "3.9.12"
  }
 },
 "nbformat": 4,
 "nbformat_minor": 5
}
