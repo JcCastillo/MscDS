{
  "nbformat": 4,
  "nbformat_minor": 0,
  "metadata": {
    "colab": {
      "name": "Practica1EL2.ipynb",
      "provenance": [],
      "collapsed_sections": []
    },
    "kernelspec": {
      "name": "python3",
      "display_name": "Python 3"
    },
    "language_info": {
      "name": "python"
    }
  },
  "cells": [
    {
      "cell_type": "code",
      "execution_count": 57,
      "metadata": {
        "id": "EhIQLAqrNRJr"
      },
      "outputs": [],
      "source": [
        "#Carga de librerias\n",
        "import pandas as pd\n",
        "import numpy as np\n",
        "from matplotlib import pyplot as plt\n",
        "from google.colab import drive\n",
        "from sklearn.cluster import KMeans\n",
        "import seaborn as sns; sns.set()\n",
        "from sklearn.mixture import GaussianMixture"
      ]
    },
    {
      "cell_type": "code",
      "source": [
        "#Montaje de archivos de google drive\n",
        "drive.mount('/content/gdrive')"
      ],
      "metadata": {
        "colab": {
          "base_uri": "https://localhost:8080/"
        },
        "id": "OfGy9dcCNgm5",
        "outputId": "47ec5f3d-ae32-4ae3-8e25-b5981b304ac9"
      },
      "execution_count": 2,
      "outputs": [
        {
          "output_type": "stream",
          "name": "stdout",
          "text": [
            "Mounted at /content/gdrive\n"
          ]
        }
      ]
    },
    {
      "cell_type": "code",
      "source": [
        "#Leer datos \n",
        "alturas_data = pd.read_csv('/content/gdrive/MyDrive/EL2/Practica1/Alturas.csv')"
      ],
      "metadata": {
        "id": "CgwlWuD7OUTV"
      },
      "execution_count": 82,
      "outputs": []
    },
    {
      "cell_type": "code",
      "source": [
        "alturas_data.rename(columns = {'Estatura(metros)':'Estatura', 'Edad(años)':'Edad'}, inplace = True)\n",
        "list(alturas_data.columns)"
      ],
      "metadata": {
        "colab": {
          "base_uri": "https://localhost:8080/"
        },
        "id": "QilqMdlMSLbd",
        "outputId": "3692eed3-f647-4dd5-8a4d-269db11d29db"
      },
      "execution_count": 83,
      "outputs": [
        {
          "output_type": "execute_result",
          "data": {
            "text/plain": [
              "['Estatura', 'Edad']"
            ]
          },
          "metadata": {},
          "execution_count": 83
        }
      ]
    },
    {
      "cell_type": "markdown",
      "source": [
        "# Hardclustering K-Means"
      ],
      "metadata": {
        "id": "COmrABUFO1Yy"
      }
    },
    {
      "cell_type": "code",
      "source": [
        "def kmeans(df,centroids):\n",
        "  diff = 1\n",
        "  j=0\n",
        "\n",
        "  while(diff!=0):\n",
        "      XD=df\n",
        "      i=1\n",
        "      for index1,row_c in centroids.iterrows():\n",
        "          ED=[]\n",
        "          for index2,row_d in XD.iterrows():\n",
        "              d1=(row_c['Estatura']-row_d['Estatura'])**2\n",
        "              d2=(row_c['Edad']-row_d['Edad'])**2\n",
        "              d=np.sqrt(d1+d2)\n",
        "              ED.append(d)\n",
        "          df[i]=ED\n",
        "          i=i+1\n",
        "\n",
        "      C=[]\n",
        "      for index,row in df.iterrows():\n",
        "          min_dist=row[1]\n",
        "          pos=1\n",
        "          for i in range(k):\n",
        "              if row[i+1] < min_dist:\n",
        "                  min_dist = row[i+1]\n",
        "                  pos=i+1\n",
        "          C.append(pos)\n",
        "      df[\"Cluster\"]=C\n",
        "      Centroids_new = df.groupby([\"Cluster\"]).mean()[['Estatura','Edad']]\n",
        "      if j == 0:\n",
        "          diff=1\n",
        "          j=j+1\n",
        "      else:\n",
        "          diff = (Centroids_new['Estatura'] - Centroids['Estatura']).sum() + (Centroids_new['Edad'] - Centroids['Edad']).sum()\n",
        "          print(diff.sum())\n",
        "      Centroids = df.groupby([\"Cluster\"]).mean()[['Estatura','Edad']]\n",
        "  return df, Centroids"
      ],
      "metadata": {
        "id": "esNmujxIUwiT"
      },
      "execution_count": 19,
      "outputs": []
    },
    {
      "cell_type": "markdown",
      "source": [
        "## Experimento #1"
      ],
      "metadata": {
        "id": "IijYh8oUV3JQ"
      }
    },
    {
      "cell_type": "code",
      "source": [
        "#definición de clusters\n",
        "k=3\n",
        "# Selección de centroides\n",
        "centroids = (alturas_data.sample(n=k))\n",
        "plt.scatter(alturas_data[\"Estatura\"],alturas_data[\"Edad\"],c='black')\n",
        "plt.scatter(centroids[\"Estatura\"],centroids[\"Edad\"],c='red')\n",
        "plt.xlabel('Estatura')\n",
        "plt.ylabel('Edad')\n",
        "plt.show()\n"
      ],
      "metadata": {
        "colab": {
          "base_uri": "https://localhost:8080/",
          "height": 279
        },
        "id": "hVkNzNwrObMR",
        "outputId": "6406d769-afb1-423e-fca0-03960c71965d"
      },
      "execution_count": 11,
      "outputs": [
        {
          "output_type": "display_data",
          "data": {
            "text/plain": [
              "<Figure size 432x288 with 1 Axes>"
            ],
            "image/png": "[encoded data removed]"
          },
          "metadata": {
            "needs_background": "light"
          }
        }
      ]
    },
    {
      "cell_type": "code",
      "source": [
        "df1, centroides1 = kmeans(alturas_data, centroids)\n"
      ],
      "metadata": {
        "colab": {
          "base_uri": "https://localhost:8080/"
        },
        "id": "JrtRi06-PTSZ",
        "outputId": "95ceaabe-1617-40c7-a9b2-fa10da265c5e"
      },
      "execution_count": 21,
      "outputs": [
        {
          "output_type": "stream",
          "name": "stdout",
          "text": [
            "0.0\n"
          ]
        }
      ]
    },
    {
      "cell_type": "code",
      "source": [
        "color=['blue','green','cyan']\n",
        "for c in range(k):\n",
        "    data=df1[alturas_data[\"Cluster\"]==c+1]\n",
        "    plt.scatter(data[\"Estatura\"],data[\"Edad\"],c=color[c])\n",
        "plt.scatter(centroides1[\"Estatura\"],centroides1[\"Edad\"],c='red')\n",
        "plt.xlabel('Estatura')\n",
        "plt.ylabel('Edad')\n",
        "plt.show()"
      ],
      "metadata": {
        "colab": {
          "base_uri": "https://localhost:8080/",
          "height": 279
        },
        "id": "apG2MQobUEyJ",
        "outputId": "8d8ca481-9296-40da-b97f-2eac33795f7f"
      },
      "execution_count": 22,
      "outputs": [
        {
          "output_type": "display_data",
          "data": {
            "text/plain": [
              "<Figure size 432x288 with 1 Axes>"
            ],
            "image/png": "[encoded data removed]"
          },
          "metadata": {
            "needs_background": "light"
          }
        }
      ]
    },
    {
      "cell_type": "markdown",
      "source": [
        "**Si es posible asignar una categoria a cada cluster**"
      ],
      "metadata": {
        "id": "KX9zBuAbaxxn"
      }
    },
    {
      "cell_type": "markdown",
      "source": [
        "## Experimento #2"
      ],
      "metadata": {
        "id": "C8UD-wvzXYQB"
      }
    },
    {
      "cell_type": "code",
      "source": [
        "#definición de clusters\n",
        "k=4\n",
        "# Selección de centroides\n",
        "centroids = (alturas_data.sample(n=k))\n",
        "plt.scatter(alturas_data[\"Estatura\"],alturas_data[\"Edad\"],c='black')\n",
        "plt.scatter(centroids[\"Estatura\"],centroids[\"Edad\"],c='red')\n",
        "plt.xlabel('Estatura')\n",
        "plt.ylabel('Edad')\n",
        "plt.show()"
      ],
      "metadata": {
        "colab": {
          "base_uri": "https://localhost:8080/",
          "height": 279
        },
        "id": "2AUJKHI5XdLw",
        "outputId": "f0cee8e2-fc77-419d-f8be-9cf20884f5b2"
      },
      "execution_count": 23,
      "outputs": [
        {
          "output_type": "display_data",
          "data": {
            "text/plain": [
              "<Figure size 432x288 with 1 Axes>"
            ],
            "image/png": "[encoded data removed]"
          },
          "metadata": {
            "needs_background": "light"
          }
        }
      ]
    },
    {
      "cell_type": "code",
      "source": [
        "df2, centroides2 = kmeans(alturas_data, centroids)"
      ],
      "metadata": {
        "colab": {
          "base_uri": "https://localhost:8080/"
        },
        "id": "DialgIMpX9LI",
        "outputId": "3117ecab-bea8-4fb1-b7e0-d79558bd8e09"
      },
      "execution_count": 26,
      "outputs": [
        {
          "output_type": "stream",
          "name": "stdout",
          "text": [
            "0.0\n"
          ]
        }
      ]
    },
    {
      "cell_type": "code",
      "source": [
        "color=['blue','green','cyan','orange']\n",
        "for c in range(k):\n",
        "    data=df2[alturas_data[\"Cluster\"]==c+1]\n",
        "    plt.scatter(data[\"Estatura\"],data[\"Edad\"],c=color[c])\n",
        "plt.scatter(centroides2[\"Estatura\"],centroides2[\"Edad\"],c='red')\n",
        "plt.xlabel('Estatura')\n",
        "plt.ylabel('Edad')\n",
        "plt.show()"
      ],
      "metadata": {
        "colab": {
          "base_uri": "https://localhost:8080/",
          "height": 279
        },
        "id": "jgcfq5u2XgnB",
        "outputId": "a0007c70-d459-41ca-8700-483c7bb88af6"
      },
      "execution_count": 29,
      "outputs": [
        {
          "output_type": "display_data",
          "data": {
            "text/plain": [
              "<Figure size 432x288 with 1 Axes>"
            ],
            "image/png": "[encoded data removed]"
          },
          "metadata": {
            "needs_background": "light"
          }
        }
      ]
    },
    {
      "cell_type": "markdown",
      "source": [
        "**No se podria asignar una categoria a cada cluster**"
      ],
      "metadata": {
        "id": "820bz3BgbAbg"
      }
    },
    {
      "cell_type": "markdown",
      "source": [
        "## Experimento #3"
      ],
      "metadata": {
        "id": "zBkLjn7aYirI"
      }
    },
    {
      "cell_type": "code",
      "source": [
        "#definición de clusters\n",
        "k=2\n",
        "# Selección de centroides\n",
        "centroids = (alturas_data.sample(n=k))\n",
        "plt.scatter(alturas_data[\"Estatura\"],alturas_data[\"Edad\"],c='black')\n",
        "plt.scatter(centroids[\"Estatura\"],centroids[\"Edad\"],c='red')\n",
        "plt.xlabel('Estatura')\n",
        "plt.ylabel('Edad')\n",
        "plt.show()"
      ],
      "metadata": {
        "colab": {
          "base_uri": "https://localhost:8080/",
          "height": 279
        },
        "id": "YOrVT4kgYg9p",
        "outputId": "18984b47-261d-4f8f-ed61-9e43788270ca"
      },
      "execution_count": 30,
      "outputs": [
        {
          "output_type": "display_data",
          "data": {
            "text/plain": [
              "<Figure size 432x288 with 1 Axes>"
            ],
            "image/png": "[encoded data removed]"
          },
          "metadata": {
            "needs_background": "light"
          }
        }
      ]
    },
    {
      "cell_type": "code",
      "source": [
        "df3, centroides3 = kmeans(alturas_data, centroids)\n",
        "color=['blue','green']\n",
        "for c in range(k):\n",
        "    data=df2[alturas_data[\"Cluster\"]==c+1]\n",
        "    plt.scatter(data[\"Estatura\"],data[\"Edad\"],c=color[c])\n",
        "plt.scatter(centroides3[\"Estatura\"],centroides3[\"Edad\"],c='red')\n",
        "plt.xlabel('Estatura')\n",
        "plt.ylabel('Edad')\n",
        "plt.show()"
      ],
      "metadata": {
        "colab": {
          "base_uri": "https://localhost:8080/",
          "height": 297
        },
        "id": "A6MuKM8-Yn79",
        "outputId": "ad66fc42-1e1b-4a4b-b2c6-6e658b0c2b94"
      },
      "execution_count": 31,
      "outputs": [
        {
          "output_type": "stream",
          "name": "stdout",
          "text": [
            "0.0\n"
          ]
        },
        {
          "output_type": "display_data",
          "data": {
            "text/plain": [
              "<Figure size 432x288 with 1 Axes>"
            ],
            "image/png": "[encoded data removed]"
          },
          "metadata": {
            "needs_background": "light"
          }
        }
      ]
    },
    {
      "cell_type": "markdown",
      "source": [
        "**No se podria asignar una categoria a cada cluster**"
      ],
      "metadata": {
        "id": "TW0awgRebEct"
      }
    },
    {
      "cell_type": "markdown",
      "source": [
        "## Experimento #4\n"
      ],
      "metadata": {
        "id": "Tl93BCclZBGr"
      }
    },
    {
      "cell_type": "code",
      "source": [
        "#definición de clusters\n",
        "k=5\n",
        "# Selección de centroides\n",
        "centroids = (alturas_data.sample(n=k))\n",
        "plt.scatter(alturas_data[\"Estatura\"],alturas_data[\"Edad\"],c='black')\n",
        "plt.scatter(centroids[\"Estatura\"],centroids[\"Edad\"],c='red')\n",
        "plt.xlabel('Estatura')\n",
        "plt.ylabel('Edad')\n",
        "plt.show()"
      ],
      "metadata": {
        "colab": {
          "base_uri": "https://localhost:8080/",
          "height": 279
        },
        "id": "ttmpq-oEZODn",
        "outputId": "f56d8510-7b96-4827-e6b1-5fa3ddacf8e6"
      },
      "execution_count": 40,
      "outputs": [
        {
          "output_type": "display_data",
          "data": {
            "text/plain": [
              "<Figure size 432x288 with 1 Axes>"
            ],
            "image/png": "[encoded data removed]"
          },
          "metadata": {
            "needs_background": "light"
          }
        }
      ]
    },
    {
      "cell_type": "code",
      "source": [
        "df4, centroides4 = kmeans(alturas_data, centroids)\n",
        "color=['blue','green','orange','yellow','cyan']\n",
        "for c in range(k):\n",
        "    data=df2[alturas_data[\"Cluster\"]==c+1]\n",
        "    plt.scatter(data[\"Estatura\"],data[\"Edad\"],c=color[c])\n",
        "plt.scatter(centroides4[\"Estatura\"],centroides4[\"Edad\"],c='red')\n",
        "plt.xlabel('Estatura')\n",
        "plt.ylabel('Edad')\n",
        "plt.show()"
      ],
      "metadata": {
        "colab": {
          "base_uri": "https://localhost:8080/",
          "height": 297
        },
        "id": "Lx9hN9qwZRaI",
        "outputId": "a8a05c23-736f-4c50-cb11-8230af0a2d39"
      },
      "execution_count": 41,
      "outputs": [
        {
          "output_type": "stream",
          "name": "stdout",
          "text": [
            "0.0\n"
          ]
        },
        {
          "output_type": "display_data",
          "data": {
            "text/plain": [
              "<Figure size 432x288 with 1 Axes>"
            ],
            "image/png": "[encoded data removed]"
          },
          "metadata": {
            "needs_background": "light"
          }
        }
      ]
    },
    {
      "cell_type": "markdown",
      "source": [
        "**No se podria asignar una categoria a cada cluster**"
      ],
      "metadata": {
        "id": "newecGAcbK1Q"
      }
    },
    {
      "cell_type": "markdown",
      "source": [
        "## Experimento #5"
      ],
      "metadata": {
        "id": "1xwexoihZxIn"
      }
    },
    {
      "cell_type": "code",
      "source": [
        "#definición de clusters\n",
        "k=6\n",
        "# Selección de centroides\n",
        "centroids = (alturas_data.sample(n=k))\n",
        "plt.scatter(alturas_data[\"Estatura\"],alturas_data[\"Edad\"],c='black')\n",
        "plt.scatter(centroids[\"Estatura\"],centroids[\"Edad\"],c='red')\n",
        "plt.xlabel('Estatura')\n",
        "plt.ylabel('Edad')\n",
        "plt.show()"
      ],
      "metadata": {
        "colab": {
          "base_uri": "https://localhost:8080/",
          "height": 279
        },
        "id": "MJEAq95tZ0wQ",
        "outputId": "89742f06-c5a6-4020-d7fb-9ef366166636"
      },
      "execution_count": 35,
      "outputs": [
        {
          "output_type": "display_data",
          "data": {
            "text/plain": [
              "<Figure size 432x288 with 1 Axes>"
            ],
            "image/png": "[encoded data removed]"
          },
          "metadata": {
            "needs_background": "light"
          }
        }
      ]
    },
    {
      "cell_type": "code",
      "source": [
        "df5, centroides5 = kmeans(alturas_data, centroids)\n",
        "color=['blue','green','orange','yellow','purple','cyan']\n",
        "for c in range(k):\n",
        "    data=df2[alturas_data[\"Cluster\"]==c+1]\n",
        "    plt.scatter(data[\"Estatura\"],data[\"Edad\"],c=color[c])\n",
        "plt.scatter(centroides5[\"Estatura\"],centroides5[\"Edad\"],c='red')\n",
        "plt.xlabel('Estatura')\n",
        "plt.ylabel('Edad')\n",
        "plt.show()"
      ],
      "metadata": {
        "colab": {
          "base_uri": "https://localhost:8080/",
          "height": 297
        },
        "id": "QJihLnsrZ4UR",
        "outputId": "a3c99f93-7a94-4695-929e-b981ae2ac66c"
      },
      "execution_count": 38,
      "outputs": [
        {
          "output_type": "stream",
          "name": "stdout",
          "text": [
            "0.0\n"
          ]
        },
        {
          "output_type": "display_data",
          "data": {
            "text/plain": [
              "<Figure size 432x288 with 1 Axes>"
            ],
            "image/png": "[encoded data removed]"
          },
          "metadata": {
            "needs_background": "light"
          }
        }
      ]
    },
    {
      "cell_type": "markdown",
      "source": [
        "**No se podria asignar una categoria a cada cluster**"
      ],
      "metadata": {
        "id": "ynNWpoSkbQ4w"
      }
    },
    {
      "cell_type": "markdown",
      "source": [
        "# Soft-clustering con GMM"
      ],
      "metadata": {
        "id": "FdOFgDzMbWlE"
      }
    },
    {
      "cell_type": "markdown",
      "source": [
        "##Experimento #1"
      ],
      "metadata": {
        "id": "50h1G_tJcO6w"
      }
    },
    {
      "cell_type": "code",
      "source": [
        "k=3\n",
        "gmm1 = alturas_data\n",
        "model = GaussianMixture(n_components=k, max_iter=10000, n_init=100, random_state=0) \n",
        "gmm1['Cluster'] = model.fit_predict(gmm1)"
      ],
      "metadata": {
        "id": "226ac9vIbd3_"
      },
      "execution_count": 60,
      "outputs": []
    },
    {
      "cell_type": "code",
      "source": [
        "color=['blue','green','orange']\n",
        "for c in range(k):\n",
        "    data=gmm1[gmm1[\"Cluster\"]==c]\n",
        "    plt.scatter(data[\"Estatura\"],data[\"Edad\"],c=color[c])\n",
        "plt.xlabel('Estatura')\n",
        "plt.ylabel('Edad')\n",
        "plt.show()"
      ],
      "metadata": {
        "colab": {
          "base_uri": "https://localhost:8080/",
          "height": 285
        },
        "id": "H16Og3iifY94",
        "outputId": "4fb7eeec-160f-4f56-a6ec-6b5ebbe73518"
      },
      "execution_count": 65,
      "outputs": [
        {
          "output_type": "display_data",
          "data": {
            "text/plain": [
              "<Figure size 432x288 with 1 Axes>"
            ],
            "image/png": "[encoded data removed]"
          },
          "metadata": {}
        }
      ]
    },
    {
      "cell_type": "markdown",
      "source": [
        "**Si es posible asignar una categoria a cada cluster**"
      ],
      "metadata": {
        "id": "pbW-ajUif5Ml"
      }
    },
    {
      "cell_type": "markdown",
      "source": [
        "## Experimento #2"
      ],
      "metadata": {
        "id": "odBRUK1lf9qm"
      }
    },
    {
      "cell_type": "code",
      "source": [
        "k=4\n",
        "gmm2 = alturas_data\n",
        "model = GaussianMixture(n_components=k, max_iter=10000, n_init=100, random_state=0) \n",
        "gmm2['Cluster'] = model.fit_predict(gmm2)\n",
        "color=['blue','green','orange','cyan']\n",
        "for c in range(k):\n",
        "    data=gmm2[gmm2[\"Cluster\"]==c]\n",
        "    plt.scatter(data[\"Estatura\"],data[\"Edad\"],c=color[c])\n",
        "plt.xlabel('Estatura')\n",
        "plt.ylabel('Edad')\n",
        "plt.show()"
      ],
      "metadata": {
        "colab": {
          "base_uri": "https://localhost:8080/",
          "height": 285
        },
        "id": "AtDAj188gAlb",
        "outputId": "b3624a53-c3ea-410c-f225-5398606899ab"
      },
      "execution_count": 66,
      "outputs": [
        {
          "output_type": "display_data",
          "data": {
            "text/plain": [
              "<Figure size 432x288 with 1 Axes>"
            ],
            "image/png": "[encoded data removed]"
          },
          "metadata": {}
        }
      ]
    },
    {
      "cell_type": "markdown",
      "source": [
        "**Si es posible asignar una categoria a cada cluster**"
      ],
      "metadata": {
        "id": "u89qfG0RgVyj"
      }
    },
    {
      "cell_type": "markdown",
      "source": [
        "## Experimento #3"
      ],
      "metadata": {
        "id": "eUL-I-VqgbT4"
      }
    },
    {
      "cell_type": "code",
      "source": [
        "k=2\n",
        "gmm3 = alturas_data\n",
        "model = GaussianMixture(n_components=k, max_iter=10000, n_init=100, random_state=0) \n",
        "gmm3['Cluster'] = model.fit_predict(gmm3)\n",
        "color=['blue','green']\n",
        "for c in range(k):\n",
        "    data=gmm3[gmm3[\"Cluster\"]==c]\n",
        "    plt.scatter(data[\"Estatura\"],data[\"Edad\"],c=color[c])\n",
        "plt.xlabel('Estatura')\n",
        "plt.ylabel('Edad')\n",
        "plt.show()"
      ],
      "metadata": {
        "colab": {
          "base_uri": "https://localhost:8080/",
          "height": 285
        },
        "id": "VQB-wOTHgciX",
        "outputId": "7b8f8911-f2e9-4809-828e-259a2f359ff5"
      },
      "execution_count": 68,
      "outputs": [
        {
          "output_type": "display_data",
          "data": {
            "text/plain": [
              "<Figure size 432x288 with 1 Axes>"
            ],
            "image/png": "[encoded data removed]"
          },
          "metadata": {}
        }
      ]
    },
    {
      "cell_type": "markdown",
      "source": [
        "**Si es posible asignar una categoria a cada cluster**\n",
        "\n",
        "## Experimento #4"
      ],
      "metadata": {
        "id": "X-UKtTLegrCQ"
      }
    },
    {
      "cell_type": "code",
      "source": [
        "k=5\n",
        "gmm4 = alturas_data\n",
        "model = GaussianMixture(n_components=k, max_iter=10000, n_init=100, random_state=0) \n",
        "gmm4['Cluster'] = model.fit_predict(gmm4)\n",
        "color=['blue','green','orange','yellow','cyan']\n",
        "for c in range(k):\n",
        "    data=gmm4[gmm4[\"Cluster\"]==c]\n",
        "    plt.scatter(data[\"Estatura\"],data[\"Edad\"],c=color[c])\n",
        "plt.xlabel('Estatura')\n",
        "plt.ylabel('Edad')\n",
        "plt.show()"
      ],
      "metadata": {
        "colab": {
          "base_uri": "https://localhost:8080/",
          "height": 285
        },
        "id": "u4CVh6a_gsHw",
        "outputId": "b7e0f5f6-2a95-4927-bf74-ce43987d735b"
      },
      "execution_count": 70,
      "outputs": [
        {
          "output_type": "display_data",
          "data": {
            "text/plain": [
              "<Figure size 432x288 with 1 Axes>"
            ],
            "image/png": "[encoded data removed]"
          },
          "metadata": {}
        }
      ]
    },
    {
      "cell_type": "markdown",
      "source": [
        "**Si es posible asignar una categoria a cada cluster**\n",
        "\n",
        "## Experimento #5"
      ],
      "metadata": {
        "id": "6Slsx3-ogyvG"
      }
    },
    {
      "cell_type": "code",
      "source": [
        "k=6\n",
        "gmm5 = alturas_data\n",
        "model = GaussianMixture(n_components=k, max_iter=10000, n_init=100, random_state=0) \n",
        "gmm5['Cluster'] = model.fit_predict(gmm5)\n",
        "color=['blue','green','yellow','cyan','purple','lime']\n",
        "for c in range(k):\n",
        "    data=gmm5[gmm5[\"Cluster\"]==c]\n",
        "    plt.scatter(data[\"Estatura\"],data[\"Edad\"],c=color[c])\n",
        "plt.xlabel('Estatura')\n",
        "plt.ylabel('Edad')\n",
        "plt.show()"
      ],
      "metadata": {
        "colab": {
          "base_uri": "https://localhost:8080/",
          "height": 285
        },
        "id": "h1JORYAPg0va",
        "outputId": "e06ee0b8-e0c8-4f7c-dda3-900860259a87"
      },
      "execution_count": 73,
      "outputs": [
        {
          "output_type": "display_data",
          "data": {
            "text/plain": [
              "<Figure size 432x288 with 1 Axes>"
            ],
            "image/png": "[encoded data removed]"
          },
          "metadata": {}
        }
      ]
    },
    {
      "cell_type": "markdown",
      "source": [
        "**Si es posible asignar una categoria a cada cluster**\n",
        "\n",
        "\n",
        "## Conclusiones método del codo\n",
        "El método del codo, es adecuado para este problema"
      ],
      "metadata": {
        "id": "5uqrs2eghckh"
      }
    },
    {
      "cell_type": "markdown",
      "source": [
        "### Valores de prueba"
      ],
      "metadata": {
        "id": "0aS1flZlhzIu"
      }
    },
    {
      "cell_type": "code",
      "source": [
        "#Leer datos \n",
        "test_data = pd.read_csv('/content/gdrive/MyDrive/EL2/Practica1/valtest.csv')"
      ],
      "metadata": {
        "id": "9p9R-PwshvoZ"
      },
      "execution_count": 113,
      "outputs": []
    },
    {
      "cell_type": "code",
      "source": [
        "k=3\n",
        "gmm1 = alturas_data\n",
        "model = GaussianMixture(n_components=k, max_iter=10000, n_init=100, random_state=0) \n",
        "model.fit(gmm1)"
      ],
      "metadata": {
        "colab": {
          "base_uri": "https://localhost:8080/"
        },
        "id": "FUxNQI2-icaA",
        "outputId": "a0bb2837-f7bf-43ca-e941-b74be38df029"
      },
      "execution_count": 114,
      "outputs": [
        {
          "output_type": "execute_result",
          "data": {
            "text/plain": [
              "GaussianMixture(max_iter=10000, n_components=3, n_init=100, random_state=0)"
            ]
          },
          "metadata": {},
          "execution_count": 114
        }
      ]
    },
    {
      "cell_type": "code",
      "source": [
        "test_data['Cluster'] = model.predict(test_data)"
      ],
      "metadata": {
        "id": "b7vyspYviovM"
      },
      "execution_count": 86,
      "outputs": []
    },
    {
      "cell_type": "code",
      "source": [
        "color=['blue','green','orange']\n",
        "for c in range(k):\n",
        "    data=test_data[test_data[\"Cluster\"]==c]\n",
        "    plt.scatter(data[\"Estatura\"],data[\"Edad\"],c=color[c])\n",
        "plt.xlabel('Estatura')\n",
        "plt.ylabel('Edad')\n",
        "plt.show()"
      ],
      "metadata": {
        "colab": {
          "base_uri": "https://localhost:8080/",
          "height": 285
        },
        "id": "lFDXXcl9jAfQ",
        "outputId": "f1f138d0-1637-449a-9bac-31c82cb78734"
      },
      "execution_count": 88,
      "outputs": [
        {
          "output_type": "display_data",
          "data": {
            "text/plain": [
              "<Figure size 432x288 with 1 Axes>"
            ],
            "image/png": "[encoded data removed]"
          },
          "metadata": {}
        }
      ]
    },
    {
      "cell_type": "code",
      "source": [
        "probs = model.predict_proba(test_data)"
      ],
      "metadata": {
        "id": "-rYBjpDvjXBP"
      },
      "execution_count": 91,
      "outputs": []
    },
    {
      "cell_type": "code",
      "source": [
        "probsdf = pd.DataFrame(probs,columns = ['Prob Cluster 1','Prob Cluster 2','Prob Cluster 2'])"
      ],
      "metadata": {
        "id": "CAa31uF6jn_9"
      },
      "execution_count": 97,
      "outputs": []
    },
    {
      "cell_type": "code",
      "source": [
        "pd.concat([test_data, probsdf], axis=1)"
      ],
      "metadata": {
        "colab": {
          "base_uri": "https://localhost:8080/",
          "height": 300
        },
        "id": "h35Xk0jhk3KH",
        "outputId": "5510e52a-fa7b-4705-9c1f-beeef1adb0f0"
      },
      "execution_count": 104,
      "outputs": [
        {
          "output_type": "execute_result",
          "data": {
            "text/plain": [
              "   Estatura  Edad  Prob Cluster 1  Prob Cluster 2  Prob Cluster 2\n",
              "0      1.82    25        0.999991    3.891283e-30        0.000009\n",
              "1      1.80    27        0.998324    1.981126e-23        0.001676\n",
              "2      1.60    31        0.164277    4.285777e-04        0.835294\n",
              "3      1.60    35        0.000864    4.112452e-01        0.587891\n",
              "4      1.82    30        0.549020    2.642344e-18        0.450980\n",
              "5      1.76    32        0.003679    1.685490e-11        0.996321\n",
              "6      1.79    31        0.048333    1.264782e-14        0.951667\n",
              "7      1.61    31        0.129252    1.503658e-04        0.870598"
            ],
            "text/html": [
              "\n",
              "  <div id=\"df-144e715e-7cf8-415d-bda4-c41e446f5bcc\">\n",
              "    <div class=\"colab-df-container\">\n",
              "      <div>\n",
              "<style scoped>\n",
              "    .dataframe tbody tr th:only-of-type {\n",
              "        vertical-align: middle;\n",
              "    }\n",
              "\n",
              "    .dataframe tbody tr th {\n",
              "        vertical-align: top;\n",
              "    }\n",
              "\n",
              "    .dataframe thead th {\n",
              "        text-align: right;\n",
              "    }\n",
              "</style>\n",
              "<table border=\"1\" class=\"dataframe\">\n",
              "  <thead>\n",
              "    <tr style=\"text-align: right;\">\n",
              "      <th></th>\n",
              "      <th>Estatura</th>\n",
              "      <th>Edad</th>\n",
              "      <th>Prob Cluster 1</th>\n",
              "      <th>Prob Cluster 2</th>\n",
              "      <th>Prob Cluster 2</th>\n",
              "    </tr>\n",
              "  </thead>\n",
              "  <tbody>\n",
              "    <tr>\n",
              "      <th>0</th>\n",
              "      <td>1.82</td>\n",
              "      <td>25</td>\n",
              "      <td>0.999991</td>\n",
              "      <td>3.891283e-30</td>\n",
              "      <td>0.000009</td>\n",
              "    </tr>\n",
              "    <tr>\n",
              "      <th>1</th>\n",
              "      <td>1.80</td>\n",
              "      <td>27</td>\n",
              "      <td>0.998324</td>\n",
              "      <td>1.981126e-23</td>\n",
              "      <td>0.001676</td>\n",
              "    </tr>\n",
              "    <tr>\n",
              "      <th>2</th>\n",
              "      <td>1.60</td>\n",
              "      <td>31</td>\n",
              "      <td>0.164277</td>\n",
              "      <td>4.285777e-04</td>\n",
              "      <td>0.835294</td>\n",
              "    </tr>\n",
              "    <tr>\n",
              "      <th>3</th>\n",
              "      <td>1.60</td>\n",
              "      <td>35</td>\n",
              "      <td>0.000864</td>\n",
              "      <td>4.112452e-01</td>\n",
              "      <td>0.587891</td>\n",
              "    </tr>\n",
              "    <tr>\n",
              "      <th>4</th>\n",
              "      <td>1.82</td>\n",
              "      <td>30</td>\n",
              "      <td>0.549020</td>\n",
              "      <td>2.642344e-18</td>\n",
              "      <td>0.450980</td>\n",
              "    </tr>\n",
              "    <tr>\n",
              "      <th>5</th>\n",
              "      <td>1.76</td>\n",
              "      <td>32</td>\n",
              "      <td>0.003679</td>\n",
              "      <td>1.685490e-11</td>\n",
              "      <td>0.996321</td>\n",
              "    </tr>\n",
              "    <tr>\n",
              "      <th>6</th>\n",
              "      <td>1.79</td>\n",
              "      <td>31</td>\n",
              "      <td>0.048333</td>\n",
              "      <td>1.264782e-14</td>\n",
              "      <td>0.951667</td>\n",
              "    </tr>\n",
              "    <tr>\n",
              "      <th>7</th>\n",
              "      <td>1.61</td>\n",
              "      <td>31</td>\n",
              "      <td>0.129252</td>\n",
              "      <td>1.503658e-04</td>\n",
              "      <td>0.870598</td>\n",
              "    </tr>\n",
              "  </tbody>\n",
              "</table>\n",
              "</div>\n",
              "      <button class=\"colab-df-convert\" onclick=\"convertToInteractive('df-144e715e-7cf8-415d-bda4-c41e446f5bcc')\"\n",
              "              title=\"Convert this dataframe to an interactive table.\"\n",
              "              style=\"display:none;\">\n",
              "        \n",
              "  <svg xmlns=\"http://www.w3.org/2000/svg\" height=\"24px\"viewBox=\"0 0 24 24\"\n",
              "       width=\"24px\">\n",
              "    <path d=\"M0 0h24v24H0V0z\" fill=\"none\"/>\n",
              "    <path d=\"M18.56 5.44l.94 2.06.94-2.06 2.06-.94-2.06-.94-.94-2.06-.94 2.06-2.06.94zm-11 1L8.5 8.5l.94-2.06 2.06-.94-2.06-.94L8.5 2.5l-.94 2.06-2.06.94zm10 10l.94 2.06.94-2.06 2.06-.94-2.06-.94-.94-2.06-.94 2.06-2.06.94z\"/><path d=\"M17.41 7.96l-1.37-1.37c-.4-.4-.92-.59-1.43-.59-.52 0-1.04.2-1.43.59L10.3 9.45l-7.72 7.72c-.78.78-.78 2.05 0 2.83L4 21.41c.39.39.9.59 1.41.59.51 0 1.02-.2 1.41-.59l7.78-7.78 2.81-2.81c.8-.78.8-2.07 0-2.86zM5.41 20L4 18.59l7.72-7.72 1.47 1.35L5.41 20z\"/>\n",
              "  </svg>\n",
              "      </button>\n",
              "      \n",
              "  <style>\n",
              "    .colab-df-container {\n",
              "      display:flex;\n",
              "      flex-wrap:wrap;\n",
              "      gap: 12px;\n",
              "    }\n",
              "\n",
              "    .colab-df-convert {\n",
              "      background-color: #E8F0FE;\n",
              "      border: none;\n",
              "      border-radius: 50%;\n",
              "      cursor: pointer;\n",
              "      display: none;\n",
              "      fill: #1967D2;\n",
              "      height: 32px;\n",
              "      padding: 0 0 0 0;\n",
              "      width: 32px;\n",
              "    }\n",
              "\n",
              "    .colab-df-convert:hover {\n",
              "      background-color: #E2EBFA;\n",
              "      box-shadow: 0px 1px 2px rgba(60, 64, 67, 0.3), 0px 1px 3px 1px rgba(60, 64, 67, 0.15);\n",
              "      fill: #174EA6;\n",
              "    }\n",
              "\n",
              "    [theme=dark] .colab-df-convert {\n",
              "      background-color: #3B4455;\n",
              "      fill: #D2E3FC;\n",
              "    }\n",
              "\n",
              "    [theme=dark] .colab-df-convert:hover {\n",
              "      background-color: #434B5C;\n",
              "      box-shadow: 0px 1px 3px 1px rgba(0, 0, 0, 0.15);\n",
              "      filter: drop-shadow(0px 1px 2px rgba(0, 0, 0, 0.3));\n",
              "      fill: #FFFFFF;\n",
              "    }\n",
              "  </style>\n",
              "\n",
              "      <script>\n",
              "        const buttonEl =\n",
              "          document.querySelector('#df-144e715e-7cf8-415d-bda4-c41e446f5bcc button.colab-df-convert');\n",
              "        buttonEl.style.display =\n",
              "          google.colab.kernel.accessAllowed ? 'block' : 'none';\n",
              "\n",
              "        async function convertToInteractive(key) {\n",
              "          const element = document.querySelector('#df-144e715e-7cf8-415d-bda4-c41e446f5bcc');\n",
              "          const dataTable =\n",
              "            await google.colab.kernel.invokeFunction('convertToInteractive',\n",
              "                                                     [key], {});\n",
              "          if (!dataTable) return;\n",
              "\n",
              "          const docLinkHtml = 'Like what you see? Visit the ' +\n",
              "            '<a target=\"_blank\" href=https://colab.research.google.com/notebooks/data_table.ipynb>data table notebook</a>'\n",
              "            + ' to learn more about interactive tables.';\n",
              "          element.innerHTML = '';\n",
              "          dataTable['output_type'] = 'display_data';\n",
              "          await google.colab.output.renderOutput(dataTable, element);\n",
              "          const docLink = document.createElement('div');\n",
              "          docLink.innerHTML = docLinkHtml;\n",
              "          element.appendChild(docLink);\n",
              "        }\n",
              "      </script>\n",
              "    </div>\n",
              "  </div>\n",
              "  "
            ]
          },
          "metadata": {},
          "execution_count": 104
        }
      ]
    },
    {
      "cell_type": "markdown",
      "source": [
        "## Simulación"
      ],
      "metadata": {
        "id": "KdPzAMwGmveG"
      }
    },
    {
      "cell_type": "code",
      "source": [
        "test_data_sample = model.sample(1000)"
      ],
      "metadata": {
        "id": "2zziE0VZmvOi"
      },
      "execution_count": 115,
      "outputs": []
    },
    {
      "cell_type": "code",
      "source": [
        "test_data_sample_features = test_data_sample[0]\n",
        "tddf = pd.DataFrame(test_data_sample_features,columns = ['Estatura','Edad'])"
      ],
      "metadata": {
        "id": "5r5K8DWHm52W"
      },
      "execution_count": 120,
      "outputs": []
    },
    {
      "cell_type": "code",
      "source": [
        "#Valores esperados\n",
        "tddf.mean()"
      ],
      "metadata": {
        "colab": {
          "base_uri": "https://localhost:8080/"
        },
        "id": "c8qPW95CoxmK",
        "outputId": "5460aa8a-76d2-4079-8e14-1e490b56f646"
      },
      "execution_count": 123,
      "outputs": [
        {
          "output_type": "execute_result",
          "data": {
            "text/plain": [
              "Estatura     1.721028\n",
              "Edad        29.586208\n",
              "dtype: float64"
            ]
          },
          "metadata": {},
          "execution_count": 123
        }
      ]
    }
  ]
}