{
 "cells": [
  {
   "cell_type": "code",
   "execution_count": 66,
   "id": "20883094-485b-4552-833a-44b95ce0bc92",
   "metadata": {},
   "outputs": [],
   "source": [
    "#Importar librerias\n",
    "import numpy as np\n",
    "import pandas as pd\n",
    "import matplotlib.pyplot as plt\n",
    "import seaborn as sns\n",
    "from sklearn.metrics import accuracy_score\n",
    "import tensorflow as tf\n",
    "from tensorflow.keras import layers\n",
    "import keras\n",
    "from keras.models import Sequential\n",
    "from keras.layers.core import Dense,Activation,Dropout\n",
    "from keras.utils import to_categorical\n",
    "from sklearn.model_selection import train_test_split\n",
    "from keras.layers import Flatten\n",
    "from keras.layers import Conv2D\n",
    "from keras.layers import MaxPool2D"
   ]
  },
  {
   "cell_type": "code",
   "execution_count": 82,
   "id": "0bd73756-39f6-4a82-bf75-a1dd1589a092",
   "metadata": {},
   "outputs": [],
   "source": [
    "#Carga de datos\n",
    "mnist_data = pd.read_csv('./train.csv')"
   ]
  },
  {
   "cell_type": "code",
   "execution_count": 83,
   "id": "68833dff-fb60-4ac5-91c8-8e7f646c1736",
   "metadata": {},
   "outputs": [
    {
     "data": {
      "text/html": [
       "<div>\n",
       "<style scoped>\n",
       "    .dataframe tbody tr th:only-of-type {\n",
       "        vertical-align: middle;\n",
       "    }\n",
       "\n",
       "    .dataframe tbody tr th {\n",
       "        vertical-align: top;\n",
       "    }\n",
       "\n",
       "    .dataframe thead th {\n",
       "        text-align: right;\n",
       "    }\n",
       "</style>\n",
       "<table border=\"1\" class=\"dataframe\">\n",
       "  <thead>\n",
       "    <tr style=\"text-align: right;\">\n",
       "      <th></th>\n",
       "      <th>label</th>\n",
       "      <th>pixel0</th>\n",
       "      <th>pixel1</th>\n",
       "      <th>pixel2</th>\n",
       "      <th>pixel3</th>\n",
       "      <th>pixel4</th>\n",
       "      <th>pixel5</th>\n",
       "      <th>pixel6</th>\n",
       "      <th>pixel7</th>\n",
       "      <th>pixel8</th>\n",
       "      <th>...</th>\n",
       "      <th>pixel774</th>\n",
       "      <th>pixel775</th>\n",
       "      <th>pixel776</th>\n",
       "      <th>pixel777</th>\n",
       "      <th>pixel778</th>\n",
       "      <th>pixel779</th>\n",
       "      <th>pixel780</th>\n",
       "      <th>pixel781</th>\n",
       "      <th>pixel782</th>\n",
       "      <th>pixel783</th>\n",
       "    </tr>\n",
       "  </thead>\n",
       "  <tbody>\n",
       "    <tr>\n",
       "      <th>0</th>\n",
       "      <td>1</td>\n",
       "      <td>0</td>\n",
       "      <td>0</td>\n",
       "      <td>0</td>\n",
       "      <td>0</td>\n",
       "      <td>0</td>\n",
       "      <td>0</td>\n",
       "      <td>0</td>\n",
       "      <td>0</td>\n",
       "      <td>0</td>\n",
       "      <td>...</td>\n",
       "      <td>0</td>\n",
       "      <td>0</td>\n",
       "      <td>0</td>\n",
       "      <td>0</td>\n",
       "      <td>0</td>\n",
       "      <td>0</td>\n",
       "      <td>0</td>\n",
       "      <td>0</td>\n",
       "      <td>0</td>\n",
       "      <td>0</td>\n",
       "    </tr>\n",
       "    <tr>\n",
       "      <th>1</th>\n",
       "      <td>0</td>\n",
       "      <td>0</td>\n",
       "      <td>0</td>\n",
       "      <td>0</td>\n",
       "      <td>0</td>\n",
       "      <td>0</td>\n",
       "      <td>0</td>\n",
       "      <td>0</td>\n",
       "      <td>0</td>\n",
       "      <td>0</td>\n",
       "      <td>...</td>\n",
       "      <td>0</td>\n",
       "      <td>0</td>\n",
       "      <td>0</td>\n",
       "      <td>0</td>\n",
       "      <td>0</td>\n",
       "      <td>0</td>\n",
       "      <td>0</td>\n",
       "      <td>0</td>\n",
       "      <td>0</td>\n",
       "      <td>0</td>\n",
       "    </tr>\n",
       "    <tr>\n",
       "      <th>2</th>\n",
       "      <td>1</td>\n",
       "      <td>0</td>\n",
       "      <td>0</td>\n",
       "      <td>0</td>\n",
       "      <td>0</td>\n",
       "      <td>0</td>\n",
       "      <td>0</td>\n",
       "      <td>0</td>\n",
       "      <td>0</td>\n",
       "      <td>0</td>\n",
       "      <td>...</td>\n",
       "      <td>0</td>\n",
       "      <td>0</td>\n",
       "      <td>0</td>\n",
       "      <td>0</td>\n",
       "      <td>0</td>\n",
       "      <td>0</td>\n",
       "      <td>0</td>\n",
       "      <td>0</td>\n",
       "      <td>0</td>\n",
       "      <td>0</td>\n",
       "    </tr>\n",
       "    <tr>\n",
       "      <th>3</th>\n",
       "      <td>4</td>\n",
       "      <td>0</td>\n",
       "      <td>0</td>\n",
       "      <td>0</td>\n",
       "      <td>0</td>\n",
       "      <td>0</td>\n",
       "      <td>0</td>\n",
       "      <td>0</td>\n",
       "      <td>0</td>\n",
       "      <td>0</td>\n",
       "      <td>...</td>\n",
       "      <td>0</td>\n",
       "      <td>0</td>\n",
       "      <td>0</td>\n",
       "      <td>0</td>\n",
       "      <td>0</td>\n",
       "      <td>0</td>\n",
       "      <td>0</td>\n",
       "      <td>0</td>\n",
       "      <td>0</td>\n",
       "      <td>0</td>\n",
       "    </tr>\n",
       "    <tr>\n",
       "      <th>4</th>\n",
       "      <td>0</td>\n",
       "      <td>0</td>\n",
       "      <td>0</td>\n",
       "      <td>0</td>\n",
       "      <td>0</td>\n",
       "      <td>0</td>\n",
       "      <td>0</td>\n",
       "      <td>0</td>\n",
       "      <td>0</td>\n",
       "      <td>0</td>\n",
       "      <td>...</td>\n",
       "      <td>0</td>\n",
       "      <td>0</td>\n",
       "      <td>0</td>\n",
       "      <td>0</td>\n",
       "      <td>0</td>\n",
       "      <td>0</td>\n",
       "      <td>0</td>\n",
       "      <td>0</td>\n",
       "      <td>0</td>\n",
       "      <td>0</td>\n",
       "    </tr>\n",
       "  </tbody>\n",
       "</table>\n",
       "<p>5 rows × 785 columns</p>\n",
       "</div>"
      ],
      "text/plain": [
       "   label  pixel0  pixel1  pixel2  pixel3  pixel4  pixel5  pixel6  pixel7  \\\n",
       "0      1       0       0       0       0       0       0       0       0   \n",
       "1      0       0       0       0       0       0       0       0       0   \n",
       "2      1       0       0       0       0       0       0       0       0   \n",
       "3      4       0       0       0       0       0       0       0       0   \n",
       "4      0       0       0       0       0       0       0       0       0   \n",
       "\n",
       "   pixel8  ...  pixel774  pixel775  pixel776  pixel777  pixel778  pixel779  \\\n",
       "0       0  ...         0         0         0         0         0         0   \n",
       "1       0  ...         0         0         0         0         0         0   \n",
       "2       0  ...         0         0         0         0         0         0   \n",
       "3       0  ...         0         0         0         0         0         0   \n",
       "4       0  ...         0         0         0         0         0         0   \n",
       "\n",
       "   pixel780  pixel781  pixel782  pixel783  \n",
       "0         0         0         0         0  \n",
       "1         0         0         0         0  \n",
       "2         0         0         0         0  \n",
       "3         0         0         0         0  \n",
       "4         0         0         0         0  \n",
       "\n",
       "[5 rows x 785 columns]"
      ]
     },
     "execution_count": 83,
     "metadata": {},
     "output_type": "execute_result"
    }
   ],
   "source": [
    "#Visualización de los datos\n",
    "mnist_data.head()"
   ]
  },
  {
   "cell_type": "code",
   "execution_count": 84,
   "id": "fa92d0ab-2a70-493e-acb7-1088871f2016",
   "metadata": {},
   "outputs": [],
   "source": [
    "#train test split 70,30\n",
    "mnist_data_train, mnist_data_test = train_test_split(mnist_data,test_size=0.3,random_state = 42)\n",
    "data_train_x = mnist_data_train.drop('label',axis=1)\n",
    "data_train_y = mnist_data_train['label']\n",
    "data_test_x = mnist_data_test.drop('label',axis=1)\n",
    "data_test_y = mnist_data_test['label']\n",
    "\n",
    "#Reshaping para visualización\n",
    "data_train_x = data_train_x.values.reshape(-1,28,28)\n",
    "data_test_x = data_test_x.values.reshape(-1,28,28)"
   ]
  },
  {
   "cell_type": "code",
   "execution_count": 85,
   "id": "401ad6c1-2df1-4142-a7c1-2f2985eab041",
   "metadata": {},
   "outputs": [
    {
     "data": {
      "image/png": "[encoded data removed]",
      "text/plain": [
       "<Figure size 720x720 with 15 Axes>"
      ]
     },
     "metadata": {},
     "output_type": "display_data"
    }
   ],
   "source": [
    "#Exploración de datos\n",
    "col_names = ['Cero','Uno','Dos','Tres','Cuatro','Cinco','Seis','Siete','Ocho','Nueve']\n",
    "\n",
    "plt.figure(figsize=(10,10))\n",
    "for i in range(15):\n",
    "    plt.subplot(5,5,i+1)\n",
    "    plt.xticks([])\n",
    "    plt.yticks([])\n",
    "    plt.imshow(data_train_x[i], cmap='gray')\n",
    "    plt.xlabel(col_names[data_train_y.iloc[i]])\n",
    "plt.show()"
   ]
  },
  {
   "cell_type": "code",
   "execution_count": 45,
   "id": "03b3f67b-5a61-469f-93c7-41bbcd0535c0",
   "metadata": {},
   "outputs": [],
   "source": [
    "#Reshaping para entrenamiento\n",
    "data_train_x = data_train_x.reshape(-1,784)\n",
    "data_test_x = data_test_x.reshape(-1,784)"
   ]
  },
  {
   "cell_type": "code",
   "execution_count": 46,
   "id": "cf76d1b9-fcce-466d-b0dd-cca26d453261",
   "metadata": {},
   "outputs": [
    {
     "data": {
      "text/plain": [
       "(29400, 784)"
      ]
     },
     "execution_count": 46,
     "metadata": {},
     "output_type": "execute_result"
    }
   ],
   "source": [
    "data_train_x.shape"
   ]
  },
  {
   "cell_type": "code",
   "execution_count": 47,
   "id": "7fbea15f-f327-4c0a-ae89-f672118d07ba",
   "metadata": {},
   "outputs": [],
   "source": [
    "#Encoding labels\n",
    "y_train_label = to_categorical(data_train_y, num_classes=10)\n",
    "y_test_label = to_categorical(data_test_y, num_classes=10)"
   ]
  },
  {
   "cell_type": "markdown",
   "id": "85859e43-e365-417b-8545-2d9309a3e09c",
   "metadata": {},
   "source": [
    "## ANN"
   ]
  },
  {
   "cell_type": "code",
   "execution_count": 54,
   "id": "85c7555d-61aa-4c9c-8de8-915f3d29c456",
   "metadata": {},
   "outputs": [],
   "source": [
    "ann = keras.Sequential([\n",
    "    layers.Dense(128, activation='relu', input_shape=(784,)),\n",
    "    layers.Dropout(0.3),\n",
    "    layers.BatchNormalization(),\n",
    "    layers.Dense(24, activation='relu'),\n",
    "    layers.Dropout(0.3),\n",
    "    layers.BatchNormalization(),\n",
    "    layers.Dense(24, activation='relu'),\n",
    "    layers.Dropout(0.3),\n",
    "    layers.BatchNormalization(),\n",
    "    layers.Dense(10,activation='sigmoid'),\n",
    "])"
   ]
  },
  {
   "cell_type": "code",
   "execution_count": 60,
   "id": "e94e495c-9f47-4f00-aef9-719b2bb9b539",
   "metadata": {},
   "outputs": [],
   "source": [
    "#Compilación de modelo\n",
    "ann.compile(loss=\"categorical_crossentropy\",\n",
    "              optimizer=\"adam\",\n",
    "              metrics = ['accuracy'])"
   ]
  },
  {
   "cell_type": "code",
   "execution_count": 61,
   "id": "ee9b40be-1286-4b7b-9188-f8b45aa521a5",
   "metadata": {},
   "outputs": [
    {
     "name": "stdout",
     "output_type": "stream",
     "text": [
      "Epoch 1/30\n",
      "294/294 [==============================] - 2s 3ms/step - loss: 1.2076 - accuracy: 0.6159\n",
      "Epoch 2/30\n",
      "294/294 [==============================] - 1s 3ms/step - loss: 0.6693 - accuracy: 0.8028\n",
      "Epoch 3/30\n",
      "294/294 [==============================] - 1s 2ms/step - loss: 0.5131 - accuracy: 0.8518\n",
      "Epoch 4/30\n",
      "294/294 [==============================] - 1s 3ms/step - loss: 0.4421 - accuracy: 0.8745\n",
      "Epoch 5/30\n",
      "294/294 [==============================] - 1s 3ms/step - loss: 0.4013 - accuracy: 0.8861\n",
      "Epoch 6/30\n",
      "294/294 [==============================] - 1s 3ms/step - loss: 0.3565 - accuracy: 0.8995\n",
      "Epoch 7/30\n",
      "294/294 [==============================] - 1s 3ms/step - loss: 0.3389 - accuracy: 0.9046\n",
      "Epoch 8/30\n",
      "294/294 [==============================] - 1s 2ms/step - loss: 0.3204 - accuracy: 0.9118\n",
      "Epoch 9/30\n",
      "294/294 [==============================] - 1s 2ms/step - loss: 0.3042 - accuracy: 0.9151\n",
      "Epoch 10/30\n",
      "294/294 [==============================] - 1s 2ms/step - loss: 0.2939 - accuracy: 0.9202\n",
      "Epoch 11/30\n",
      "294/294 [==============================] - 1s 3ms/step - loss: 0.2812 - accuracy: 0.9216\n",
      "Epoch 12/30\n",
      "294/294 [==============================] - 1s 3ms/step - loss: 0.2668 - accuracy: 0.9265\n",
      "Epoch 13/30\n",
      "294/294 [==============================] - 1s 2ms/step - loss: 0.2621 - accuracy: 0.9284\n",
      "Epoch 14/30\n",
      "294/294 [==============================] - 1s 3ms/step - loss: 0.2558 - accuracy: 0.9283\n",
      "Epoch 15/30\n",
      "294/294 [==============================] - 1s 2ms/step - loss: 0.2529 - accuracy: 0.9307\n",
      "Epoch 16/30\n",
      "294/294 [==============================] - 1s 2ms/step - loss: 0.2474 - accuracy: 0.9316\n",
      "Epoch 17/30\n",
      "294/294 [==============================] - 1s 3ms/step - loss: 0.2438 - accuracy: 0.9327\n",
      "Epoch 18/30\n",
      "294/294 [==============================] - 1s 3ms/step - loss: 0.2339 - accuracy: 0.9353\n",
      "Epoch 19/30\n",
      "294/294 [==============================] - 1s 2ms/step - loss: 0.2278 - accuracy: 0.9365\n",
      "Epoch 20/30\n",
      "294/294 [==============================] - 1s 3ms/step - loss: 0.2289 - accuracy: 0.9388\n",
      "Epoch 21/30\n",
      "294/294 [==============================] - 1s 3ms/step - loss: 0.2248 - accuracy: 0.9378\n",
      "Epoch 22/30\n",
      "294/294 [==============================] - 1s 3ms/step - loss: 0.2242 - accuracy: 0.9407\n",
      "Epoch 23/30\n",
      "294/294 [==============================] - 1s 3ms/step - loss: 0.2204 - accuracy: 0.9387\n",
      "Epoch 24/30\n",
      "294/294 [==============================] - 1s 3ms/step - loss: 0.2155 - accuracy: 0.9387\n",
      "Epoch 25/30\n",
      "294/294 [==============================] - 1s 3ms/step - loss: 0.2126 - accuracy: 0.9425\n",
      "Epoch 26/30\n",
      "294/294 [==============================] - 1s 3ms/step - loss: 0.2100 - accuracy: 0.9439\n",
      "Epoch 27/30\n",
      "294/294 [==============================] - 1s 3ms/step - loss: 0.2042 - accuracy: 0.9427\n",
      "Epoch 28/30\n",
      "294/294 [==============================] - 1s 2ms/step - loss: 0.2041 - accuracy: 0.9433\n",
      "Epoch 29/30\n",
      "294/294 [==============================] - 1s 3ms/step - loss: 0.1972 - accuracy: 0.9456\n",
      "Epoch 30/30\n",
      "294/294 [==============================] - 1s 2ms/step - loss: 0.1964 - accuracy: 0.9461\n"
     ]
    },
    {
     "data": {
      "text/plain": [
       "<keras.callbacks.History at 0x1a63185e9d0>"
      ]
     },
     "execution_count": 61,
     "metadata": {},
     "output_type": "execute_result"
    }
   ],
   "source": [
    "#Entrenamiento\n",
    "ann.fit(data_train_x, y_train_label, batch_size=100, epochs=30)"
   ]
  },
  {
   "cell_type": "code",
   "execution_count": 63,
   "id": "19c8fcf3-d7a3-46b9-8794-916a13a94454",
   "metadata": {},
   "outputs": [
    {
     "name": "stdout",
     "output_type": "stream",
     "text": [
      "394/394 [==============================] - 1s 1ms/step - loss: 0.1116 - accuracy: 0.9727\n"
     ]
    }
   ],
   "source": [
    "#Metricas \n",
    "test_loss, test_acc = ann.evaluate(data_test_x, y_test_label)"
   ]
  },
  {
   "cell_type": "code",
   "execution_count": 64,
   "id": "222d7b8b-0648-40d3-a15e-43a936d34aee",
   "metadata": {},
   "outputs": [
    {
     "name": "stdout",
     "output_type": "stream",
     "text": [
      "Test accuracy: 0.97\n"
     ]
    }
   ],
   "source": [
    "print('Test accuracy: {0:.2f}'.format(test_acc))"
   ]
  },
  {
   "cell_type": "markdown",
   "id": "e363c873-9ec6-45a3-ad81-967ddfafcb16",
   "metadata": {},
   "source": [
    "## CNN"
   ]
  },
  {
   "cell_type": "code",
   "execution_count": 77,
   "id": "22d86f9f-bb94-4ba1-a7b6-105c3be533be",
   "metadata": {},
   "outputs": [],
   "source": [
    "#Carga de datos\n",
    "mnist_data = pd.read_csv('./train.csv')\n",
    "\n",
    "#train test split 60,20,20\n",
    "mnist_data_train, mnist_data_vt = train_test_split(mnist_data,test_size=0.4,random_state = 42)\n",
    "mnist_data_validate, mnist_data_test = train_test_split(mnist_data_vt, test_size=0.5, random_state = 42)\n",
    "data_train_x = mnist_data_train.drop('label',axis=1)\n",
    "data_train_y = mnist_data_train['label']\n",
    "data_validate_x = mnist_data_validate.drop('label',axis=1)\n",
    "data_validate_y = mnist_data_validate['label']\n",
    "data_test_x = mnist_data_test.drop('label',axis=1)\n",
    "data_test_y = mnist_data_test['label']\n",
    "\n",
    "#Reshaping\n",
    "data_train_x = data_train_x.values.reshape(-1,28,28)\n",
    "data_validate_x = data_validate_x.values.reshape(-1,28,28)\n",
    "data_test_x = data_test_x.values.reshape(-1,28,28)\n",
    "\n",
    "#Encoding labels\n",
    "y_train_label = to_categorical(data_train_y, num_classes=10)\n",
    "y_validate_label = to_categorical(data_validate_y, num_classes=10)\n",
    "y_test_label = to_categorical(data_test_y, num_classes=10)\n"
   ]
  },
  {
   "cell_type": "code",
   "execution_count": 71,
   "id": "4c40d443-ed6d-43a5-ad67-397d580a7f55",
   "metadata": {},
   "outputs": [],
   "source": [
    "#Definición de modelo\n",
    "cnn = keras.Sequential([\n",
    "    layers.Conv2D(filters=64, kernel_size=(3,3), input_shape=(28,28,1), activation='relu'),\n",
    "    layers.BatchNormalization(),\n",
    "    layers.MaxPool2D(pool_size=(2,2)),\n",
    "    layers.Conv2D(filters=32, kernel_size=(3,3), activation='relu'),\n",
    "    layers.MaxPool2D(pool_size=(2,2)),\n",
    "    layers.Flatten(),\n",
    "    layers.Dense(100, activation='relu'),\n",
    "    layers.BatchNormalization(),\n",
    "    layers.Dense(10,activation='softmax')\n",
    "])"
   ]
  },
  {
   "cell_type": "code",
   "execution_count": 72,
   "id": "da432070-61d9-4aa4-9c56-459ba29ea347",
   "metadata": {},
   "outputs": [],
   "source": [
    "#Compilación de modelo\n",
    "cnn.compile(loss=\"categorical_crossentropy\",\n",
    "              optimizer=\"adam\",\n",
    "              metrics = ['accuracy'])"
   ]
  },
  {
   "cell_type": "code",
   "execution_count": 78,
   "id": "c6e159d0-7f46-4631-a848-6fffa6fbba5b",
   "metadata": {},
   "outputs": [
    {
     "name": "stdout",
     "output_type": "stream",
     "text": [
      "Epoch 1/5\n",
      "20/20 [==============================] - ETA: 0s - loss: 0.0500 - accuracy: 0.9879WARNING:tensorflow:Your input ran out of data; interrupting training. Make sure that your dataset or generator can generate at least `steps_per_epoch * epochs` batches (in this case, 800 batches). You may need to use the repeat() function when building your dataset.\n",
      "20/20 [==============================] - 23s 1s/step - loss: 0.0500 - accuracy: 0.9879 - val_loss: 0.1123 - val_accuracy: 0.9620\n",
      "Epoch 2/5\n",
      "20/20 [==============================] - 20s 983ms/step - loss: 0.0411 - accuracy: 0.9903\n",
      "Epoch 3/5\n",
      "20/20 [==============================] - 19s 970ms/step - loss: 0.0342 - accuracy: 0.9929\n",
      "Epoch 4/5\n",
      "20/20 [==============================] - 19s 974ms/step - loss: 0.0293 - accuracy: 0.9944\n",
      "Epoch 5/5\n",
      "20/20 [==============================] - 20s 980ms/step - loss: 0.0242 - accuracy: 0.9958\n"
     ]
    },
    {
     "data": {
      "text/plain": [
       "<keras.callbacks.History at 0x1a636ad5340>"
      ]
     },
     "execution_count": 78,
     "metadata": {},
     "output_type": "execute_result"
    }
   ],
   "source": [
    "#Entrenamiento\n",
    "cnn.fit(data_train_x, y_train_label, epochs=5, validation_steps=800, steps_per_epoch=20, validation_data=(data_validate_x, y_validate_label))"
   ]
  },
  {
   "cell_type": "code",
   "execution_count": 79,
   "id": "48c1996d-8b0b-4d26-ac11-33fa2d2931f2",
   "metadata": {},
   "outputs": [
    {
     "name": "stdout",
     "output_type": "stream",
     "text": [
      "263/263 [==============================] - 2s 7ms/step - loss: 0.0519 - accuracy: 0.9855\n"
     ]
    }
   ],
   "source": [
    "#Metricas \n",
    "test_loss, test_acc = cnn.evaluate(data_test_x, y_test_label)"
   ]
  },
  {
   "cell_type": "code",
   "execution_count": 80,
   "id": "17ebd84a-7baf-415f-b3c7-abd74d8dcb65",
   "metadata": {},
   "outputs": [
    {
     "name": "stdout",
     "output_type": "stream",
     "text": [
      "Test accuracy: 0.99\n"
     ]
    }
   ],
   "source": [
    "print('Test accuracy: {0:.2f}'.format(test_acc))"
   ]
  },
  {
   "cell_type": "markdown",
   "id": "152ae081-1348-4599-8bc1-bc819d459800",
   "metadata": {},
   "source": [
    "## Conclusiones\n",
    "\n",
    "Para la red neuronal artificial se utilizo una división de datos de 70 - 30 para entrenamiento y prueba, la red obtuvo la métrica accuracy = 0.97\n",
    "\n",
    "Para la red convolucional se utilizo una división 60 - 20 - 20 para datos de entrenamiento, validación y prueba, la red obtuvo la métrica accuracy = 0.99"
   ]
  }
 ],
 "metadata": {
  "kernelspec": {
   "display_name": "Python 3 (ipykernel)",
   "language": "python",
   "name": "python3"
  },
  "language_info": {
   "codemirror_mode": {
    "name": "ipython",
    "version": 3
   },
   "file_extension": ".py",
   "mimetype": "text/x-python",
   "name": "python",
   "nbconvert_exporter": "python",
   "pygments_lexer": "ipython3",
   "version": "3.9.12"
  }
 },
 "nbformat": 4,
 "nbformat_minor": 5
}
